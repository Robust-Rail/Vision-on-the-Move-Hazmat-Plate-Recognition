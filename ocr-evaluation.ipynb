version https://git-lfs.github.com/spec/v1
oid sha256:451c6189590460567124fe834c40de7e2c2f38334311ec5ca654e1474e0a6b7f
size 76165
