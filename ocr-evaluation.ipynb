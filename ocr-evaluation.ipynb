version https://git-lfs.github.com/spec/v1
oid sha256:afe56b14e6bf12cde43a027391d949966432964aac9e9bd60f54968910aeff22
size 141297
