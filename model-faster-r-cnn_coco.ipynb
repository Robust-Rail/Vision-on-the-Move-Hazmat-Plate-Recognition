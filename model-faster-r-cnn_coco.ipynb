version https://git-lfs.github.com/spec/v1
oid sha256:8d304757932dd02e3c82839be242428c811625ddb0de1c41f4091b44e37a6f21
size 68639528
