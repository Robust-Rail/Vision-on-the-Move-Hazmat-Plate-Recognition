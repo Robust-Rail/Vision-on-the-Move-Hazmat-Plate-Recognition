{
 "cells": [
  {
   "cell_type": "markdown",
   "id": "0",
   "metadata": {},
   "source": [
    "# Finetuning YOLOv11 model for UN Number Detection\n",
    "\n",
    "This notebook demonstrates the fine-tuning of YOLOv11 models specifically for detecting UN number hazard plates on freight trains. We use the largest model in the YOLOv11 family (`yolov11x`) to achieve the best possible accuracy for this critical safety application.\n",
    "\n",
    "## Overview\n",
    "\n",
    "We conduct three systematic experiments with different training strategies to identify the optimal configuration:\n",
    "\n",
    "1. **Default Experiment**: Baseline training with standard parameters\n",
    "2. **Early Stopping Experiment**: Training with early stopping to prevent overfitting  \n",
    "3. **Early Stopping + Lower Learning Rate**: Fine-tuned approach with reduced learning rate for better convergence\n",
    "\n",
    "Each experiment uses our custom `UNNumberYOLO` class which provides simplified configuration management and optimized default parameters for hazard plate detection.\n",
    "\n",
    "## Dataset\n",
    "\n",
    "- **Source**: ProRail UN number hazard plate dataset\n",
    "- **Format**: YOLO format with bounding box annotations\n",
    "- **Location**: `../data/annotations/prorail/yolo/dataset.yaml`\n",
    "\n",
    "## Model Selection\n",
    "\n",
    "We use **YOLOv11x** (extra-large) for the following reasons:\n",
    "- Highest accuracy in the YOLOv11 family\n",
    "- Better performance on small objects (hazard plates can be small in images)\n",
    "- Suitable for safety-critical applications where precision is paramount\n",
    "- Acceptable inference speed for our use case"
   ]
  },
  {
   "cell_type": "markdown",
   "id": "1",
   "metadata": {},
   "source": [
    "## Setup and Imports\n",
    "\n",
    "First, we'll import our custom UNNumberYOLO class and set up the paths for our dataset and model outputs. The custom class provides simplified access to YOLO functionality with pre-configured parameters optimized for UN number detection."
   ]
  },
  {
   "cell_type": "code",
   "execution_count": null,
   "id": "2",
   "metadata": {},
   "outputs": [],
   "source": [
    "import sys\n",
    "from pathlib import Path\n",
    "import os\n",
    "sys.path.append(str(Path().resolve().parent / \"src\"))"
   ]
  },
  {
   "cell_type": "code",
   "execution_count": null,
   "id": "3",
   "metadata": {},
   "outputs": [],
   "source": [
    "# Import our custom YOLO class\n",
    "from un_detector.models.yolo import UNNumberYOLO\n",
    "\n",
    "# Define paths for dataset and model outputs\n",
    "dataset_path = os.path.join(\"..\", \"data\", \"annotations\", \"prorail\", \"yolo\", \"dataset.yaml\")\n",
    "model_output_path = os.path.join(\"..\", \"outputs\", \"models\", \"prorail\")\n",
    "\n",
    "# Create output directory if it doesn't exist\n",
    "os.makedirs(model_output_path, exist_ok=True)\n",
    "\n",
    "print(f\"📊 Dataset path: {dataset_path}\")\n",
    "print(f\"💾 Model output path: {model_output_path}\")\n",
    "print(f\"✅ Setup complete!\")"
   ]
  },
  {
   "cell_type": "markdown",
   "id": "4",
   "metadata": {},
   "source": [
    "## Training Experiments\n",
    "\n",
    "We'll conduct three systematic experiments to find the optimal training configuration for UN number detection. Each experiment builds upon the previous one, incorporating lessons learned to improve model performance.\n",
    "\n",
    "### Experiment Design\n",
    "\n",
    "| Experiment | Key Features | Purpose |\n",
    "|------------|--------------|---------|\n",
    "| **Default** | Standard parameters, 10 epochs | Establish baseline performance |\n",
    "| **Early Stopping** | Patience=5, up to 100 epochs | Prevent overfitting, find optimal training duration |\n",
    "| **Early Stop + Lower LR** | Patience=10, reduced learning rate | Fine-tune convergence for better accuracy |\n",
    "\n",
    "All experiments use:\n",
    "- **Model**: YOLOv11x (extra-large)\n",
    "- **Device**: CUDA (GPU acceleration)\n",
    "- **Dataset**: ProRail UN number annotations\n",
    "- **Output**: Saved models for comparison and deployment"
   ]
  },
  {
   "cell_type": "markdown",
   "id": "5",
   "metadata": {},
   "source": [
    "### Experiment 1: Default Configuration\n",
    "\n",
    "**Objective**: Establish a baseline performance using standard training parameters.\n",
    "\n",
    "**Configuration Details**:\n",
    "- **Epochs**: 10 (short training for initial assessment)\n",
    "- **Learning Rate**: Default YOLO settings\n",
    "- **Augmentation**: Standard augmentation pipeline\n",
    "- **Early Stopping**: Disabled (fixed epoch count)\n",
    "\n",
    "**Purpose**: \n",
    "- Validate the training pipeline works correctly\n",
    "- Get initial performance metrics\n",
    "- Establish baseline for comparison with optimized experiments\n",
    "- Quick iteration to identify potential issues\n",
    "\n",
    "This experiment uses the `default_experiment` configuration which includes balanced parameters suitable for most object detection tasks."
   ]
  },
  {
   "cell_type": "code",
   "execution_count": null,
   "id": "6",
   "metadata": {},
   "outputs": [],
   "source": [
    "# Initialize YOLOv11x model for default experiment\n",
    "yolo_default_experiment = UNNumberYOLO(model_size=\"xlarge\", device=\"cuda\")\n",
    "print(\"🔧 Model initialized for default experiment:\")\n",
    "yolo_default_experiment"
   ]
  },
  {
   "cell_type": "code",
   "execution_count": null,
   "id": "7",
   "metadata": {},
   "outputs": [],
   "source": [
    "# Load default experiment configuration\n",
    "default_config_name = \"default_experiment\"\n",
    "print(f\"📋 Loading configuration: {default_config_name}\")\n",
    "\n",
    "# Display available configurations\n",
    "print(f\"📁 Available configurations: {UNNumberYOLO.list_configs()}\")"
   ]
  },
  {
   "cell_type": "code",
   "execution_count": null,
   "id": "8",
   "metadata": {},
   "outputs": [],
   "source": [
    "# Preview the default configuration parameters\n",
    "default_config = UNNumberYOLO.load_config(default_config_name)\n",
    "print(\"⚙️ Default configuration parameters:\")\n",
    "for key, value in default_config.items():\n",
    "    print(f\"   {key}: {value}\")\n",
    "print(f\"\\n📊 Total parameters: {len(default_config)}\")\n",
    "default_config"
   ]
  },
  {
   "cell_type": "code",
   "execution_count": null,
   "id": "9",
   "metadata": {},
   "outputs": [],
   "source": [
    "# Start training with default configuration\n",
    "# Override epochs to 10 for this baseline experiment\n",
    "print(\"🏋️ Starting Default Experiment Training...\")\n",
    "print(\"=\" * 50)\n",
    "\n",
    "results = yolo_default_experiment.train(\n",
    "    data_path=dataset_path, \n",
    "    config_path=default_config_name, \n",
    "    epochs=10\n",
    ")\n",
    "\n",
    "print(\"✅ Default experiment training completed!\")\n",
    "print(f\"📈 Results type: {type(results)}\")"
   ]
  },
  {
   "cell_type": "code",
   "execution_count": null,
   "id": "10",
   "metadata": {},
   "outputs": [],
   "source": [
    "# Save the trained model\n",
    "model_save_path = os.path.join(model_output_path, \"yolo_default_experiment.pt\")\n",
    "print(f\"💾 Saving default experiment model to: {model_save_path}\")\n",
    "\n",
    "yolo_default_experiment.save(model_save_path)\n",
    "\n",
    "print(\"✅ Default experiment model saved successfully!\")\n",
    "print(f\"📁 File size: {os.path.getsize(model_save_path) / (1024*1024):.1f} MB\")"
   ]
  },
  {
   "cell_type": "markdown",
   "id": "11",
   "metadata": {},
   "source": [
    "### Experiment 2: Early Stopping Strategy\n",
    "\n",
    "**Objective**: Prevent overfitting and find the optimal training duration automatically.\n",
    "\n",
    "**Configuration Details**:\n",
    "- **Max Epochs**: 100 (upper limit)\n",
    "- **Patience**: 5 epochs (stops if no improvement for 5 consecutive epochs)\n",
    "- **Early Stopping**: Enabled based on validation metrics\n",
    "- **Monitoring**: Validation loss and mAP metrics\n",
    "\n",
    "**Key Advantages**:\n",
    "- **Prevents Overfitting**: Stops training when model performance plateaus\n",
    "- **Automatic Duration**: No need to guess optimal epoch count\n",
    "- **Resource Efficient**: Avoids unnecessary training time\n",
    "- **Better Generalization**: Model stops at peak validation performance\n",
    "\n",
    "**Expected Outcome**:\n",
    "The model should achieve better validation performance than the default experiment by stopping at the optimal point rather than training for a fixed number of epochs."
   ]
  },
  {
   "cell_type": "code",
   "execution_count": null,
   "id": "12",
   "metadata": {},
   "outputs": [],
   "source": [
    "# Initialize fresh YOLOv11x model for early stopping experiment\n",
    "yolo_early_stopping = UNNumberYOLO(model_size=\"xlarge\", device=\"cuda\")\n",
    "print(\"🔧 Model initialized for early stopping experiment:\")\n",
    "yolo_early_stopping"
   ]
  },
  {
   "cell_type": "code",
   "execution_count": null,
   "id": "13",
   "metadata": {},
   "outputs": [],
   "source": [
    "# Load early stopping experiment configuration\n",
    "early_stopping_config_name = \"earlystopping-experiment\"\n",
    "print(f\"📋 Configuration for experiment 2: {early_stopping_config_name}\")\n",
    "print(\"⏱️ This config includes early stopping parameters for optimal training duration\")"
   ]
  },
  {
   "cell_type": "code",
   "execution_count": null,
   "id": "14",
   "metadata": {},
   "outputs": [],
   "source": [
    "# Preview early stopping configuration\n",
    "early_stopping_config = UNNumberYOLO.load_config(early_stopping_config_name)\n",
    "print(\"⚙️ Early stopping configuration parameters:\")\n",
    "\n",
    "# Show key differences from default config\n",
    "key_params = ['epochs', 'patience', 'lr0', 'batch']\n",
    "for param in key_params:\n",
    "    if param in early_stopping_config:\n",
    "        print(f\"   {param}: {early_stopping_config[param]}\")\n",
    "\n",
    "print(f\"\\n📊 Total parameters: {len(early_stopping_config)}\")\n",
    "early_stopping_config"
   ]
  },
  {
   "cell_type": "code",
   "execution_count": null,
   "id": "15",
   "metadata": {},
   "outputs": [],
   "source": [
    "# Start training with early stopping\n",
    "print(\"🏋️ Starting Early Stopping Experiment...\")\n",
    "print(\"=\" * 50)\n",
    "print(\"⏱️ Training will stop automatically when validation performance plateaus\")\n",
    "print(f\"📊 Max epochs: 100, Patience: 5\")\n",
    "\n",
    "results_early_stop = yolo_early_stopping.train(\n",
    "    data_path=dataset_path, \n",
    "    config_path=early_stopping_config_name, \n",
    "    patience=5,    # Stop if no improvement for 5 epochs\n",
    "    epochs=100     # Maximum epochs allowed\n",
    ")\n",
    "\n",
    "print(\"✅ Early stopping experiment completed!\")\n",
    "print(\"📊 Training stopped automatically at optimal point\")"
   ]
  },
  {
   "cell_type": "code",
   "execution_count": null,
   "id": "16",
   "metadata": {},
   "outputs": [],
   "source": [
    "# Save the early stopping experiment model\n",
    "model_save_path_2 = os.path.join(model_output_path, \"yolo_early_stopping_experiment.pt\")\n",
    "print(f\"💾 Saving early stopping experiment model to: {model_save_path_2}\")\n",
    "\n",
    "yolo_early_stopping.save(model_save_path_2)\n",
    "\n",
    "print(\"✅ Early stopping experiment model saved successfully!\")\n",
    "print(f\"📁 File size: {os.path.getsize(model_save_path_2) / (1024*1024):.1f} MB\")"
   ]
  },
  {
   "cell_type": "markdown",
   "id": "17",
   "metadata": {},
   "source": [
    "### Experiment 3: Early Stopping + Lower Learning Rate\n",
    "\n",
    "**Objective**: Achieve the highest possible accuracy through fine-tuned hyperparameters.\n",
    "\n",
    "**Configuration Details**:\n",
    "- **Max Epochs**: 100 (same as experiment 2)\n",
    "- **Patience**: 10 epochs (increased patience for more thorough training)\n",
    "- **Learning Rate**: Reduced for finer convergence\n",
    "- **Early Stopping**: Enabled with extended patience\n",
    "\n",
    "**Key Improvements**:\n",
    "- **Lower Learning Rate**: Smaller steps for more precise weight updates\n",
    "- **Extended Patience**: Allows more time to find optimal weights\n",
    "- **Fine-tuned Convergence**: Better final accuracy through careful parameter adjustment\n",
    "- **Stability**: Reduced risk of overshooting optimal weights\n",
    "\n",
    "**Hypothesis**:\n",
    "The combination of lower learning rate and extended patience should produce:\n",
    "1. More stable training curves\n",
    "2. Higher final validation accuracy\n",
    "3. Better model generalization\n",
    "4. Optimal performance for deployment\n",
    "\n",
    "This represents our most sophisticated training approach, incorporating lessons from the previous experiments."
   ]
  },
  {
   "cell_type": "code",
   "execution_count": null,
   "id": "18",
   "metadata": {},
   "outputs": [],
   "source": [
    "# Initialize fresh YOLOv11x model for optimized experiment\n",
    "yolo_early_stopping_lower_lr = UNNumberYOLO(model_size=\"xlarge\", device=\"cuda\")\n",
    "print(\"🔧 Model initialized for early stopping + lower learning rate experiment:\")\n",
    "print(\"🎯 This is our most optimized configuration for maximum accuracy\")\n",
    "yolo_early_stopping_lower_lr"
   ]
  },
  {
   "cell_type": "code",
   "execution_count": null,
   "id": "19",
   "metadata": {},
   "outputs": [],
   "source": [
    "# Load optimized experiment configuration  \n",
    "early_stopping_lower_lr_config_name = \"early-stopping-lowerlr-experiment\"\n",
    "print(f\"📋 Configuration for final experiment: {early_stopping_lower_lr_config_name}\")\n",
    "print(\"🎯 This config combines early stopping with reduced learning rate for optimal results\")"
   ]
  },
  {
   "cell_type": "code",
   "execution_count": null,
   "id": "20",
   "metadata": {},
   "outputs": [],
   "source": [
    "# Preview optimized configuration parameters\n",
    "early_stopping_lower_lr_config = UNNumberYOLO.load_config(early_stopping_lower_lr_config_name)\n",
    "print(\"⚙️ Optimized configuration parameters:\")\n",
    "\n",
    "# Highlight key optimization parameters\n",
    "key_params = ['epochs', 'patience', 'lr0', 'lrf', 'batch', 'warmup_epochs']\n",
    "for param in key_params:\n",
    "    if param in early_stopping_lower_lr_config:\n",
    "        print(f\"   {param}: {early_stopping_lower_lr_config[param]}\")\n",
    "\n",
    "print(f\"\\n📊 Total parameters: {len(early_stopping_lower_lr_config)}\")\n",
    "print(\"🔍 Key optimizations: Lower learning rates and extended patience\")\n",
    "early_stopping_lower_lr_config"
   ]
  },
  {
   "cell_type": "code",
   "execution_count": null,
   "id": "21",
   "metadata": {},
   "outputs": [],
   "source": [
    "# Start optimized training with early stopping + lower learning rate\n",
    "print(\"🏋️ Starting Optimized Experiment (Early Stopping + Lower LR)...\")\n",
    "print(\"=\" * 60)\n",
    "print(\"🎯 This is our most sophisticated training approach\")\n",
    "print(\"⏱️ Extended patience (10 epochs) for thorough optimization\")\n",
    "print(\"📈 Lower learning rate for precise convergence\")\n",
    "\n",
    "results_optimized = yolo_early_stopping_lower_lr.train(\n",
    "    data_path=dataset_path, \n",
    "    config_path=early_stopping_lower_lr_config_name, \n",
    "    patience=10,   # Extended patience for better optimization\n",
    "    epochs=100     # Maximum epochs allowed\n",
    ")\n",
    "\n",
    "print(\"✅ Optimized experiment completed!\")\n",
    "print(\"🎯 This should be our best-performing model\")\n",
    "print(f\"📊 Results: {type(results_optimized)}\")"
   ]
  },
  {
   "cell_type": "code",
   "execution_count": null,
   "id": "22",
   "metadata": {},
   "outputs": [],
   "source": [
    "# Save the optimized experiment model\n",
    "model_save_path_3 = os.path.join(model_output_path, \"yolo_early_stopping_lower_lr_experiment.pt\")\n",
    "print(f\"💾 Saving optimized experiment model to: {model_save_path_3}\")\n",
    "\n",
    "yolo_early_stopping_lower_lr.save(model_save_path_3)\n",
    "\n",
    "print(\"✅ Optimized experiment model saved successfully!\")\n",
    "print(f\"📁 File size: {os.path.getsize(model_save_path_3) / (1024*1024):.1f} MB\")\n",
    "\n",
    "# Summary of all experiments\n",
    "print(\"\\n\" + \"=\"*60)\n",
    "print(\"🎉 ALL EXPERIMENTS COMPLETED!\")\n",
    "print(\"=\"*60)\n",
    "print(\"📊 Three models trained:\")\n",
    "print(f\"   1️⃣ Default: {os.path.basename(model_save_path)}\")\n",
    "print(f\"   2️⃣ Early Stopping: {os.path.basename(model_save_path_2)}\")  \n",
    "print(f\"   3️⃣ Optimized: {os.path.basename(model_save_path_3)}\")\n",
    "print(\"\\n🔍 Next steps: Compare model performance and select best for deployment\")"
   ]
  },
  {
   "cell_type": "markdown",
   "id": "23",
   "metadata": {},
   "source": [
    "## Experiment Summary and Next Steps\n",
    "\n",
    "### Results Overview\n",
    "\n",
    "We have successfully completed three systematic training experiments:\n",
    "\n",
    "| Experiment | Configuration | Key Features | Expected Outcome |\n",
    "|------------|---------------|--------------|------------------|\n",
    "| **Baseline** | `default_experiment` | Standard parameters, 10 epochs | Quick baseline performance |\n",
    "| **Early Stop** | `earlystopping-experiment` | Patience=5, max 100 epochs | Prevent overfitting |\n",
    "| **Optimized** | `early-stopping-lowerlr-experiment` | Patience=10, lower LR | Maximum accuracy |\n",
    "\n",
    "### Model Comparison Framework\n",
    "\n",
    "To determine the best model, evaluate each on:\n",
    "\n",
    "1. **Validation Metrics**:\n",
    "   - mAP@0.5 (primary metric)\n",
    "   - mAP@0.5:0.95 (overall precision)\n",
    "   - Precision and Recall\n",
    "   - Training/Validation loss curves\n",
    "\n",
    "2. **Practical Performance**:\n",
    "   - Inference speed\n",
    "   - Memory usage  \n",
    "   - Real-world test accuracy\n",
    "\n",
    "3. **Training Efficiency**:\n",
    "   - Total training time\n",
    "   - Convergence stability\n",
    "   - Resource utilization\n",
    "\n",
    "### Next Steps\n",
    "\n",
    "1. **Evaluate Models**: Run validation on test set\n",
    "2. **Compare Performance**: Analyze metrics and select best model\n",
    "3. **Deploy Selected Model**: Use best performer for production\n",
    "4. **Document Results**: Record findings for future reference\n",
    "\n",
    "### Generated Models\n",
    "\n",
    "All trained models are saved in: `../outputs/models/prorail/`\n",
    "- `yolo_default_experiment.pt`\n",
    "- `yolo_early_stopping_experiment.pt` \n",
    "- `yolo_early_stopping_lower_lr_experiment.pt`"
   ]
  }
 ],
 "metadata": {
  "kernelspec": {
   "display_name": ".venv",
   "language": "python",
   "name": "python3"
  },
  "language_info": {
   "codemirror_mode": {
    "name": "ipython",
    "version": 3
   },
   "file_extension": ".py",
   "mimetype": "text/x-python",
   "name": "python",
   "nbconvert_exporter": "python",
   "pygments_lexer": "ipython3",
   "version": "3.11.9"
  }
 },
 "nbformat": 4,
 "nbformat_minor": 5
}
