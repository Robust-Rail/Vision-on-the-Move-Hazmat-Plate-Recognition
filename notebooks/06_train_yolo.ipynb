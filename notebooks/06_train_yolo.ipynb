{
 "cells": [
  {
   "cell_type": "markdown",
   "id": "67d97e7a",
   "metadata": {},
   "source": [
    "# Finetuning YOLOv11 model\n",
    "\n",
    "For out research, YOLOV11 is chosen and finetuned on the UN number dataset. The chosen model is `yolov11x` the largest model in the YOLOv11 family. There are three experiments conducted with different augmentation strategie, to get the best results. "
   ]
  },
  {
   "cell_type": "markdown",
   "id": "a9554039",
   "metadata": {},
   "source": [
    "## Importing classes"
   ]
  },
  {
   "cell_type": "code",
   "execution_count": null,
   "id": "f28c8764",
   "metadata": {},
   "outputs": [],
   "source": [
    "import sys\n",
    "from pathlib import Path\n",
    "\n",
    "sys.path.append(str(Path().resolve().parent / \"src\"))"
   ]
  },
  {
   "cell_type": "code",
   "execution_count": null,
   "id": "21fefc35",
   "metadata": {},
   "outputs": [],
   "source": [
    "from un_detector.models.yolo import UNNumberYOLO\n",
    "from un_detector.utils import load_config\n"
   ]
  },
  {
   "cell_type": "markdown",
   "id": "869a1b12",
   "metadata": {},
   "source": [
    "## Experiments"
   ]
  },
  {
   "cell_type": "markdown",
   "id": "faf82fbb",
   "metadata": {},
   "source": [
    "### Default experiment\n",
    "todo : describe the default experiment"
   ]
  },
  {
   "cell_type": "code",
   "execution_count": null,
   "id": "549946bf",
   "metadata": {},
   "outputs": [],
   "source": [
    "yolo_default_experiment = UNNumberYOLO()\n"
   ]
  }
 ],
 "metadata": {
  "kernelspec": {
   "display_name": ".venv",
   "language": "python",
   "name": "python3"
  },
  "language_info": {
   "codemirror_mode": {
    "name": "ipython",
    "version": 3
   },
   "file_extension": ".py",
   "mimetype": "text/x-python",
   "name": "python",
   "nbconvert_exporter": "python",
   "pygments_lexer": "ipython3",
   "version": "3.11.9"
  }
 },
 "nbformat": 4,
 "nbformat_minor": 5
}
