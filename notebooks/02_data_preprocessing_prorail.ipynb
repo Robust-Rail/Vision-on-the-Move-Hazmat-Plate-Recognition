{
 "cells": [
  {
   "cell_type": "markdown",
   "id": "0",
   "metadata": {},
   "source": [
    "# Data processing of ProRail dataset\n",
    "\n",
    "Before running this notebook, ensure you have moved the ProRail dataset to the `data` directory."
   ]
  },
  {
   "cell_type": "code",
   "execution_count": 1,
   "id": "1",
   "metadata": {},
   "outputs": [],
   "source": [
    "import sys\n",
    "from pathlib import Path\n",
    "\n",
    "sys.path.append(str(Path().resolve().parent / \"src\"))"
   ]
  },
  {
   "cell_type": "markdown",
   "id": "2",
   "metadata": {},
   "source": [
    "Import py scripts"
   ]
  },
  {
   "cell_type": "code",
   "execution_count": 2,
   "id": "3",
   "metadata": {},
   "outputs": [],
   "source": [
    "from annotation.cli.generate_annotations import generate_prorail_annotations"
   ]
  },
  {
   "cell_type": "code",
   "execution_count": null,
   "id": "4",
   "metadata": {},
   "outputs": [],
   "source": [
    "generate_prorail_annotations(\n",
    "    output_path=\"../data/annotations/prorail\",\n",
    "    video_directory=\"../data/processed/prorail\",\n",
    "    df_prorail_path=\"../data/labels_dataframe.csv\"\n",
    "    )"
   ]
  },
  {
   "cell_type": "markdown",
   "id": "5",
   "metadata": {},
   "source": [
    "## YOLO dataset validation"
   ]
  },
  {
   "cell_type": "code",
   "execution_count": 5,
   "id": "6",
   "metadata": {},
   "outputs": [],
   "source": [
    "from annotation.annotation_validator import display_sample_annotations_yolo\n"
   ]
  },
  {
   "cell_type": "code",
   "execution_count": null,
   "id": "7",
   "metadata": {},
   "outputs": [],
   "source": [
    "display_sample_annotations_yolo(\n",
    "    \"../data/annotations/prorail/yolo\", amount=20\n",
    ")"
   ]
  },
  {
   "cell_type": "markdown",
   "id": "8",
   "metadata": {},
   "source": [
    "## COCO dataset validation"
   ]
  },
  {
   "cell_type": "code",
   "execution_count": 2,
   "id": "0107b237",
   "metadata": {},
   "outputs": [],
   "source": [
    "from annotation.annotation_validator import display_sample_annotations_coco"
   ]
  },
  {
   "cell_type": "code",
   "execution_count": null,
   "id": "3f65c1ab",
   "metadata": {},
   "outputs": [],
   "source": [
    "display_sample_annotations_coco(\"../data/annotations/prorail/coco\", amount=20)"
   ]
  }
 ],
 "metadata": {
  "kernelspec": {
   "display_name": ".venv",
   "language": "python",
   "name": "python3"
  },
  "language_info": {
   "codemirror_mode": {
    "name": "ipython",
    "version": 3
   },
   "file_extension": ".py",
   "mimetype": "text/x-python",
   "name": "python",
   "nbconvert_exporter": "python",
   "pygments_lexer": "ipython3",
   "version": "3.11.9"
  }
 },
 "nbformat": 4,
 "nbformat_minor": 5
}
