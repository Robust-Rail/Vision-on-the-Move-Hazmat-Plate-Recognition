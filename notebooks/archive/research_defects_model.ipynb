{
 "cells": [
  {
   "cell_type": "code",
   "execution_count": null,
   "metadata": {},
   "outputs": [],
   "source": [
    "import os\n",
    "from PIL import Image\n",
    "import matplotlib.pyplot as plt\n"
   ]
  },
  {
   "cell_type": "code",
   "execution_count": null,
   "metadata": {},
   "outputs": [],
   "source": [
    "\n",
    "def read_images_from_folder(folder_path):\n",
    "    images = []\n",
    "    filenames = []\n",
    "    for filename in os.listdir(folder_path):\n",
    "        if filename.endswith(\".jpg\") or filename.endswith(\".png\"):\n",
    "            img = Image.open(os.path.join(folder_path, filename))\n",
    "            if img is not None:\n",
    "                images.append(img)\n",
    "                filenames.append(filename)\n",
    "    return images, filenames\n",
    "\n",
    "images, filenames = read_images_from_folder(\"data/predictions\")\n",
    "\n",
    "# Display images using matplotlib\n",
    "fig, axes = plt.subplots(len(images), 1, figsize=(15, 5 * len(images)))\n",
    "for ax, img, filename in zip(axes, images, filenames):\n",
    "    ax.imshow(img)\n",
    "    ax.set_title(filename)\n",
    "    ax.axis('off')\n",
    "plt.show()"
   ]
  },
  {
   "cell_type": "code",
   "execution_count": null,
   "metadata": {},
   "outputs": [],
   "source": [
    "def show_picture(img_name):\n",
    "    img = Image.open(f\"data/predictions/{img_name}\")\n",
    "    plt.imshow(img)\n",
    "    plt.axis('off')\n",
    "    plt.show()\n"
   ]
  },
  {
   "cell_type": "markdown",
   "metadata": {},
   "source": [
    "# Analysis"
   ]
  },
  {
   "cell_type": "markdown",
   "metadata": {},
   "source": [
    "There are several instances where predictions are false positives. While some of these cases are understandable, others are challenging to rationalize or explain why they were classified as false positives."
   ]
  },
  {
   "cell_type": "markdown",
   "metadata": {},
   "source": [
    "## Backlights\n",
    "In some predictions, backlights on trucks are classified as UN numbers. This misclassification is understandable, as both backlights and UN numbers share similar visual characteristics, such as red, yellow, or orange hues and a pattern of lines. These similarities can lead to confusion in the classification process."
   ]
  },
  {
   "cell_type": "code",
   "execution_count": null,
   "metadata": {},
   "outputs": [],
   "source": [
    "show_picture(\"275_pred.jpg\")\n",
    "show_picture(\"85_pred.jpg\")"
   ]
  },
  {
   "cell_type": "markdown",
   "metadata": {},
   "source": [
    "Some predictions where the backlight is misclassified as a UN number. This issue can be addressed by training the model with images containing backlights, appropriately labeled as 'background.'"
   ]
  },
  {
   "cell_type": "markdown",
   "metadata": {},
   "source": [
    "## Duplicate UN Number Predictions\n",
    "In certain cases, the model correctly identifies the UN number in its proper location, which is a positive outcome. However, it also makes an additional prediction, marking a larger surrounding area as UN numbers. This issue can be attributed to the model's inability to precisely localize the boundaries of the UN number.\n",
    "\n",
    "To address this problem, the following steps can be taken:\n",
    "1. **Refine Training Data**: Include more annotated examples with precise bounding boxes around UN numbers to help the model learn accurate localization.\n",
    "2. **Adjust Loss Function**: Use a loss function that penalizes incorrect bounding box predictions more heavily, such as Intersection over Union (IoU)-based loss.\n",
    "3. **Post-Processing**: Implement non-maximum suppression (NMS) to eliminate overlapping predictions and retain only the most confident bounding box."
   ]
  },
  {
   "cell_type": "code",
   "execution_count": null,
   "metadata": {},
   "outputs": [],
   "source": [
    "show_picture(\"277_pred.jpg\")"
   ]
  },
  {
   "cell_type": "markdown",
   "metadata": {},
   "source": [
    "This image shows a truck where the model made an additional prediction."
   ]
  },
  {
   "cell_type": "markdown",
   "metadata": {},
   "source": [
    "## Small UN Numbers Are Not Being Predicted (False negative)\n",
    "The current data augmentation strategy primarily focuses on zooming in on UN numbers. However, this approach has inadvertently neglected scenarios where the UN numbers appear very small. As a result, the model struggles to accurately predict small UN number plates. \n",
    "\n",
    "This issue can be addressed by incorporating data augmentation techniques that simulate smaller UN numbers, ensuring the model is trained to handle such cases effectively."
   ]
  },
  {
   "cell_type": "code",
   "execution_count": null,
   "metadata": {},
   "outputs": [],
   "source": [
    "show_picture(\"144_pred.jpg\")\n",
    "show_picture(\"135_pred.jpg\")\n",
    "show_picture(\"133_pred.jpg\")"
   ]
  },
  {
   "cell_type": "markdown",
   "metadata": {},
   "source": [
    "Some pictures of the UN number being small and not being predicted by the model"
   ]
  },
  {
   "cell_type": "markdown",
   "metadata": {},
   "source": [
    "## Red Letters on Truck Plates\n",
    "\n",
    "There were instances where plates with red letters were misclassified as UN numbers. This misclassification can be attributed to the visual similarities between the two, such as the red hue and the square shape of the plates, which resemble UN numbers. To address this issue, the model should be retrained on a dataset that includes plates with red letters, appropriately labeled as 'background.'"
   ]
  },
  {
   "cell_type": "code",
   "execution_count": null,
   "metadata": {},
   "outputs": [],
   "source": [
    "show_picture(\"215_pred.jpg\")\n",
    "show_picture(\"154_pred.jpg\")"
   ]
  },
  {
   "cell_type": "markdown",
   "metadata": {},
   "source": [
    "## Back of the Truck Identified as a UN Number\n",
    "\n",
    "Unfortunately, the entire back of the truck is sometimes misclassified as a UN number. This issue likely arises due to the model not being trained on sufficient data representing such scenarios. A possible reason for this misclassification could be the presence of multiple square-shaped objects on the back of the truck, which visually resemble UN numbers.\n",
    "\n",
    "To address this issue, the following steps can be considered:\n",
    "1. **Expand Training Dataset**: Include more images of truck backs with square objects labeled as 'background' to help the model distinguish between these objects and UN numbers.\n",
    "2. **Enhance Feature Extraction**: Improve the model's ability to differentiate between square objects and UN numbers by refining its feature extraction layers.\n",
    "3. **Data Augmentation**: Use data augmentation techniques to simulate similar scenarios and improve the model's robustness."
   ]
  },
  {
   "cell_type": "code",
   "execution_count": null,
   "metadata": {},
   "outputs": [],
   "source": [
    "show_picture(\"257_pred.jpg\")"
   ]
  },
  {
   "cell_type": "markdown",
   "metadata": {},
   "source": [
    "## obscured UN Numbers are hard to Recognize\n",
    "\n",
    "In certain cases, the model fails to recognize UN numbers when they are partially or fully obscured by other objects. This limitation is understandable, as the model has primarily been trained on images where the entire UN number is visible. To address this issue, the following steps can be taken:\n",
    "\n",
    "1. **Data Augmentation**: Introduce data augmentation techniques that simulate scenarios where UN numbers are partially covered. This will help the model learn to identify UN numbers even when they are not fully visible.\n",
    "2. **Expanded Training Dataset**: Include more training examples where UN numbers are obscured by various objects, ensuring the model is exposed to such challenging cases during training.\n",
    "\n",
    "By implementing these strategies, the model's robustness and ability to handle such scenarios can be significantly improved."
   ]
  },
  {
   "cell_type": "code",
   "execution_count": null,
   "metadata": {},
   "outputs": [],
   "source": [
    "show_picture(\"187_pred.jpg\")"
   ]
  },
  {
   "cell_type": "markdown",
   "metadata": {},
   "source": [
    "## Yellow UN numbers are harder to recognize\n",
    "The model encounters challenges in accurately recognizing yellow UN numbers. This issue may arise due to the limited representation of yellow plates in the training dataset, leading to insufficient learning of their unique features. To address this, the following steps can be taken:\n",
    "\n",
    "1. **Data Augmentation**: Introduce data augmentation techniques that simulate variations in plate colors, particularly focusing on yellow hues. This can include adjusting brightness, contrast, and saturation to create diverse examples of yellow plates.\n",
    "2. **Expand Training Dataset**: Include more annotated images of yellow UN numbers in the training dataset to ensure the model is exposed to a wider range of examples.\n",
    "\n",
    "By implementing these strategies, the model's ability to recognize yellow UN numbers can be significantly improved, reducing false negatives and enhancing overall performance."
   ]
  },
  {
   "cell_type": "code",
   "execution_count": null,
   "metadata": {},
   "outputs": [],
   "source": [
    "from PIL import Image\n",
    "\n",
    "show_picture(\"256_pred.jpg\")\n",
    "show_picture(\"13_pred.jpg\")"
   ]
  }
 ],
 "metadata": {
  "kernelspec": {
   "display_name": ".venv",
   "language": "python",
   "name": "python3"
  },
  "language_info": {
   "codemirror_mode": {
    "name": "ipython",
    "version": 3
   },
   "file_extension": ".py",
   "mimetype": "text/x-python",
   "name": "python",
   "nbconvert_exporter": "python",
   "pygments_lexer": "ipython3",
   "version": "3.12.4"
  }
 },
 "nbformat": 4,
 "nbformat_minor": 2
}
