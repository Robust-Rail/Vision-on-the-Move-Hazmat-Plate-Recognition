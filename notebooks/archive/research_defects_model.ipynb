version https://git-lfs.github.com/spec/v1
oid sha256:d850936418fda90ebbcb9f9a2fa2479dc9ff6337d7b38966cb8ddb22c79fcaac
size 10006
