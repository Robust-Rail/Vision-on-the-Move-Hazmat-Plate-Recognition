{
 "cells": [
  {
   "cell_type": "code",
   "execution_count": null,
   "metadata": {},
   "outputs": [],
   "source": [
    "import kagglehub\n",
    "from lxml import etree\n",
    "import pandas as pd\n"
   ]
  },
  {
   "cell_type": "code",
   "execution_count": null,
   "metadata": {},
   "outputs": [],
   "source": [
    "path = kagglehub.dataset_download(\"stanislavlevendeev/hazmat-detection\")\n",
    "\n",
    "print(\"Path to dataset files:\", path)"
   ]
  },
  {
   "cell_type": "code",
   "execution_count": null,
   "metadata": {},
   "outputs": [],
   "source": [
    "# Load and parse the XML file\n",
    "xml_file = path + \"\\cvat-for-video-dataset-hazmat-codes\\\\annotations.xml\"\n",
    "print(\"Path to xml file:\", xml_file)\n",
    "tree = etree.parse(xml_file)\n",
    "# Get the root element\n",
    "root = tree.getroot()\n",
    "print(\"Root element:\", root.tag)\n"
   ]
  },
  {
   "cell_type": "code",
   "execution_count": null,
   "metadata": {},
   "outputs": [],
   "source": [
    "tasks = root.find(\".//tasks\") \n",
    "tasks_json = {}\n",
    "if tasks is not None:\n",
    "    number_frames = 0\n",
    "    i = 0\n",
    "    for task in tasks.findall(\"task\"):\n",
    "        # Extract the id and name of each task\n",
    "        task_id = task.find(\"id\").text if task.find(\"id\") is not None else \"No ID\"\n",
    "        job_id = task.find(\".//segment/id\").text if task.find(\".//segment/id\") is not None else \"No ID\"\n",
    "        task_name = task.find(\"name\").text if task.find(\"name\") is not None else \"No Name\"\n",
    "        task_source = task.find(\"source\").text if task.find(\"source\") is not None else \"No source\"\n",
    "        task_frames = task.find(\"size\").text if task.find(\"size\") is not None else \"No frames\"\n",
    "        if(tasks_json.get(task_id) is None):\n",
    "            tasks_json[task_id] = {\n",
    "                \"id\": task_id,\n",
    "                \"name\": task_name,\n",
    "                \"job_id\": job_id,\n",
    "                \"source\": task_source,\n",
    "                \"frames\": task_frames,\n",
    "                \"frames_id\": number_frames,\n",
    "                \"idx\": i,\n",
    "                \"labels\": []\n",
    "            }\n",
    "        i += 1    \n",
    "        number_frames += int(task_frames)\n",
    "        print(f\"Task ID: {task_id}, Task Name: {task_name}, Task Source: {task_source}\")\n",
    "else:\n",
    "    print(\"No tasks found in the XML.\")\n"
   ]
  },
  {
   "cell_type": "code",
   "execution_count": null,
   "metadata": {},
   "outputs": [],
   "source": [
    "print(tasks_json)"
   ]
  },
  {
   "cell_type": "code",
   "execution_count": null,
   "metadata": {},
   "outputs": [],
   "source": [
    "tracks = root.findall(\"track\")\n",
    "i = 0\n",
    "for track in tracks:\n",
    "    attributes = track.attrib\n",
    "    task_id = attributes.get(\"task_id\")\n",
    "    print(\"Attributes:\", attributes)\n",
    "    print(\"Task ID:\", task_id)\n",
    "\n",
    "    boxes = track.findall(\"box\")\n",
    "    for box in boxes:\n",
    "        box_attributes = box.attrib\n",
    "        lable_obj = {\n",
    "            \"absolute_frame\": box_attributes.get(\"frame\"),\n",
    "            \"relative_frame\": int(box_attributes.get(\"frame\")) - tasks_json[task_id][\"frames_id\"] -0,\n",
    "            \"xtl\": box_attributes.get(\"xtl\"),\n",
    "            \"ytl\": box_attributes.get(\"ytl\"),\n",
    "            \"xbr\": box_attributes.get(\"xbr\"),\n",
    "            \"ybr\": box_attributes.get(\"ybr\")\n",
    "        }\n",
    "        for attr in box.findall(\"attribute\"):\n",
    "            lable_obj[attr.attrib.get(\"name\")] = attr.text\n",
    "        tasks_json[task_id][\"labels\"].append(lable_obj)\n",
    "    \n",
    "    i+=1\n"
   ]
  },
  {
   "cell_type": "code",
   "execution_count": null,
   "metadata": {},
   "outputs": [],
   "source": [
    "rows = []\n",
    "\n",
    "for task_id, task_data in tasks_json.items():\n",
    "    for label in task_data[\"labels\"]:\n",
    "        # Combine task and label data into a single row\n",
    "        row = {\n",
    "            \"Task ID\": task_data[\"id\"],\n",
    "            \"Task Name\": task_data[\"name\"],\n",
    "            \"Job Id\": task_data[\"job_id\"],\n",
    "            \"Source\": task_data[\"source\"],\n",
    "            \"Frames\": task_data[\"frames\"],\n",
    "            \"Absolute Frame\": int(label[\"absolute_frame\"]),\n",
    "            \"Relative Frame\": label[\"relative_frame\"],\n",
    "            \"XTL\": label[\"xtl\"],\n",
    "            \"YTL\": label[\"ytl\"],\n",
    "            \"XBR\": label[\"xbr\"],\n",
    "            \"YBR\": label[\"ybr\"],\n",
    "            \"Code\": label[\"code\"],\n",
    "            \"Issue\": label[\"issue\"]\n",
    "        }\n",
    "        rows.append(row)\n",
    "\n",
    "# Create a DataFrame\n",
    "df = pd.DataFrame(rows)\n",
    "\n",
    "# Sort by absolute frame descending\n",
    "df = df.sort_values(\"Absolute Frame\", ascending=True)\n",
    "\n",
    "# Display the DataFrame\n",
    "print(df.head())\n",
    "\n",
    "# Save the DataFrame to a CSV file\n",
    "output_file = \"./data/labels_dataframe.csv\"\n",
    "df.to_csv(output_file, index=False)\n",
    "print(f\"CSV file '{output_file}' created successfully.\")"
   ]
  }
 ],
 "metadata": {
  "kernelspec": {
   "display_name": "env",
   "language": "python",
   "name": "python3"
  },
  "language_info": {
   "codemirror_mode": {
    "name": "ipython",
    "version": 3
   },
   "file_extension": ".py",
   "mimetype": "text/x-python",
   "name": "python",
   "nbconvert_exporter": "python",
   "pygments_lexer": "ipython3",
   "version": "3.12.6"
  }
 },
 "nbformat": 4,
 "nbformat_minor": 2
}
