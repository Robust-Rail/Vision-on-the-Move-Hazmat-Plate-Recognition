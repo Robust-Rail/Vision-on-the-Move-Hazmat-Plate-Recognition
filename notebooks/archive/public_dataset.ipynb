{
 "cells": [
  {
   "cell_type": "code",
   "execution_count": null,
   "metadata": {},
   "outputs": [],
   "source": [
    "import pandas as pd\n",
    "\n",
    "df_public_dataset = pd.read_csv('../../data/public_dataset/image_data.csv')\n",
    "df_public_dataset.head()"
   ]
  },
  {
   "cell_type": "code",
   "execution_count": null,
   "metadata": {},
   "outputs": [],
   "source": [
    "# drop columns image_id\tlink\tauthor\tresolution\tdate_accessed\n",
    "df_public_dataset.drop(columns=['image_id', 'link', 'author', 'resolution', 'date_accessed'], inplace=True)\n",
    "df_public_dataset.head()"
   ]
  },
  {
   "cell_type": "code",
   "execution_count": null,
   "metadata": {},
   "outputs": [],
   "source": [
    "# insert a row at the beginning of the dataframe: 1\thttps://stock.adobe.com/images/diesel-truck-maz-in-work-closeup-fuel-tank-truck-with-adr-sign-30-1202-on-suburban-asphalted-road-inflammable-liquid-goods-transportation/539794111\tIlya\t1000x750\t2025-02-01 16:22:57 Ewaldo Nieuwenhuis\n",
    "# row = {'Image_id': 1, \n",
    "#        'Link': 'https://stock.adobe.com/images/diesel-truck-maz-in-work-closeup-fuel-tank-truck-with-adr-sign-30-1202-on-suburban-asphalted-road-inflammable-liquid-goods-transportation/539794111', \n",
    "#        'Website': 'Adobe Stock',\n",
    "#        'Author': 'Ilya', \n",
    "#        'Resolution': '1000x750', \n",
    "#        'Date_accessed': '2025-02-01 16:22:57', \n",
    "#        'Added_by': 'Ewaldo Nieuwenhuis'}\n",
    "# print(len(df_public_dataset))\n",
    "# df_public_dataset = pd.concat([pd.DataFrame(row, index=[0]), df_public_dataset], ignore_index=True)\n",
    "# print(len(df_public_dataset))\n",
    "# df_public_dataset.head()\n",
    "\n",
    "\n",
    "# this was a mistake because the first row is equal to the third row so do not add this row, it will start with ID 2 but whatever"
   ]
  },
  {
   "cell_type": "code",
   "execution_count": null,
   "metadata": {},
   "outputs": [],
   "source": [
    "df_public_dataset.iloc[2]['Link']\n"
   ]
  },
  {
   "cell_type": "code",
   "execution_count": null,
   "metadata": {},
   "outputs": [],
   "source": [
    "# preview some images from a folder\n",
    "\n",
    "import os\n",
    "import cv2\n",
    "import matplotlib.pyplot as plt\n",
    "\n",
    "path = 'data/public_dataset/images_master_thesis'\n",
    "images = os.listdir(path)\n",
    "images = [os.path.join(path, image) for image in images]\n",
    "\n",
    "for image in images[:5]:\n",
    "    img = cv2.imread(image)\n",
    "    img = cv2.cvtColor(img, cv2.COLOR_BGR2RGB)\n",
    "    plt.imshow(img)\n",
    "    plt.show()"
   ]
  },
  {
   "cell_type": "code",
   "execution_count": null,
   "metadata": {},
   "outputs": [],
   "source": [
    "# we need to make annotations for these images so we need to prepare some data for that\n",
    "\n",
    "# image id = the latest image id from df_public_dataset + 1\n",
    "# image path = path to dataset on roboflow: https://universe.roboflow.com/masters-thesis-yolo-model/adr-tankers-detection\n",
    "# we can get the resolution from the image itself\n",
    "# date accessed = datetime.now()\n",
    "# added by = Ewaldo Nieuwenhuis\n",
    "# author = masters-thesis-yolo-model on Roboflow, what a hero\n",
    "\n",
    "# get the latest image id\n",
    "latest_image_id = df_public_dataset['Image_id'].max()\n",
    "\n",
    "# loop over the images and add them to a new dataframe\n",
    "new_images = []\n",
    "#get the current datetime\n",
    "import datetime\n",
    "for image in images:\n",
    "    # get the resolution\n",
    "    img = cv2.imread(image)\n",
    "    resolution = f'{img.shape[1]}x{img.shape[0]}' # width x height\n",
    "    datenow = datetime.datetime.now().strftime('%Y-%m-%d %H:%M:%S')\n",
    "    new_id = int(latest_image_id + 1)\n",
    "\n",
    "    row = {'Image_id': new_id, \n",
    "           'Link': 'https://universe.roboflow.com/masters-thesis-yolo-model/adr-tankers-detection', \n",
    "           'Website': 'Roboflow',\n",
    "            'Author': 'masters-thesis-yolo-model',\n",
    "            'Resolution': resolution,\n",
    "            'Date_accessed': datenow,\n",
    "            'Added_by': 'Ewaldo Nieuwenhuis'}\n",
    "    new_images.append(row)\n",
    "    #store the image in a new folder with 'idx.png' but first check if the file already exists, if it does throw an error\n",
    "    new_image_path = f'data/public_dataset/images/{new_id}.png'\n",
    "    if os.path.exists(new_image_path):\n",
    "        raise ValueError(f'File {new_image_path} already exists')\n",
    "    cv2.imwrite(new_image_path, img)\n",
    "    latest_image_id += 1\n",
    "\n",
    "# add the new images to the dataframe\n",
    "df_new_images = pd.DataFrame(new_images)\n",
    "df_new_images.head()\n"
   ]
  },
  {
   "cell_type": "code",
   "execution_count": null,
   "metadata": {},
   "outputs": [],
   "source": [
    "# concat the new images to the public dataset\n",
    "df_public_dataset_new = pd.concat([ df_public_dataset, df_new_images], ignore_index=True)\n",
    "df_public_dataset_new.head()"
   ]
  },
  {
   "cell_type": "code",
   "execution_count": null,
   "metadata": {},
   "outputs": [],
   "source": [
    "latest_image_id = df_public_dataset['Image_id'].max()\n",
    "\n",
    "new_id = int(latest_image_id + 1)\n",
    "print(new_id)\n",
    "new_image_path = f'data/public_dataset/images/{new_id}.png'\n",
    "print(new_image_path)"
   ]
  },
  {
   "cell_type": "code",
   "execution_count": null,
   "metadata": {},
   "outputs": [],
   "source": [
    "# export the new dataset to a csv file\n",
    "df_public_dataset_new.to_csv('data/public_dataset/public_dataset.csv', index=False)"
   ]
  }
 ],
 "metadata": {
  "kernelspec": {
   "display_name": ".venv",
   "language": "python",
   "name": "python3"
  },
  "language_info": {
   "codemirror_mode": {
    "name": "ipython",
    "version": 3
   },
   "file_extension": ".py",
   "mimetype": "text/x-python",
   "name": "python",
   "nbconvert_exporter": "python",
   "pygments_lexer": "ipython3",
   "version": "3.12.4"
  }
 },
 "nbformat": 4,
 "nbformat_minor": 2
}
