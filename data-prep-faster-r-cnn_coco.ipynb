version https://git-lfs.github.com/spec/v1
oid sha256:e8507d6e9f556247a761198e80dd969c01d7758a85911d9ac3a0b8dd1c1a9d19
size 19659698
