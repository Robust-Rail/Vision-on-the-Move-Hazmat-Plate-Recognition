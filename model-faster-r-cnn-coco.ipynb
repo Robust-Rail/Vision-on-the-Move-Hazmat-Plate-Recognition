version https://git-lfs.github.com/spec/v1
oid sha256:d8c9f62bbd4c3e79b1cbd51dd2a3e2f9816c0d91c22a8457552f6e3a3f52b613
size 4930266
