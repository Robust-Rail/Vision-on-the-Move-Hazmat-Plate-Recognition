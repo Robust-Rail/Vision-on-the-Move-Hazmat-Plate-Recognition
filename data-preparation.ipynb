{
 "cells": [
  {
   "cell_type": "code",
   "execution_count": 6,
   "metadata": {},
   "outputs": [],
   "source": [
    "import kagglehub\n",
    "import pandas as pd\n",
    "import os\n",
    "import cv2"
   ]
  },
  {
   "cell_type": "code",
   "execution_count": 4,
   "metadata": {},
   "outputs": [
    {
     "name": "stdout",
     "output_type": "stream",
     "text": [
      "Path to dataset files: C:\\Users\\stani\\.cache\\kagglehub\\datasets\\stanislavlevendeev\\hazmat-detection\\versions\\4\n",
      "Path to video files: C:/Users/stani/Documents/WagonVideos\n"
     ]
    }
   ],
   "source": [
    "path = kagglehub.dataset_download(\"stanislavlevendeev/hazmat-detection\")\n",
    "video_directory = os.environ[\"PATH_TO_DATA\"]\n",
    "print(\"Path to dataset files:\", path)\n",
    "print(\"Path to video files:\", video_directory)"
   ]
  },
  {
   "cell_type": "code",
   "execution_count": 23,
   "metadata": {},
   "outputs": [
    {
     "data": {
      "text/plain": [
       "array(['1690279852.mp4', '1690281365.mp4', '1692830440.mp4',\n",
       "       '1690801380.mp4', '1691487366.mp4', '1692787289.mp4',\n",
       "       '1692875102.mp4', '1692945482.mp4', '1693811855.mp4',\n",
       "       '1693954819.mp4', '1693805101.mp4', '1693820172.mp4',\n",
       "       '1691496786.mp4', '1692872075.mp4', '1693308534.mp4',\n",
       "       '1693308657.mp4', '1693309263.mp4', '1693820241.mp4',\n",
       "       '1693820504.mp4', '1693820904.mp4', '1696009577.mp4',\n",
       "       '1696374314.mp4', '1696416413.mp4', '1696441496.mp4'], dtype=object)"
      ]
     },
     "execution_count": 23,
     "metadata": {},
     "output_type": "execute_result"
    }
   ],
   "source": [
    "df = pd.read_csv(path + \"/labels_dataframe.csv\")\n",
    "videos = df[\"Source\"].unique()\n",
    "videos"
   ]
  },
  {
   "cell_type": "code",
   "execution_count": 30,
   "metadata": {},
   "outputs": [
    {
     "name": "stdout",
     "output_type": "stream",
     "text": [
      "File C:/Users/stani/Documents/WagonVideos/1690279852.mp4 not found\n",
      "File C:/Users/stani/Documents/WagonVideos/1690281365.mp4 found\n",
      "File C:/Users/stani/Documents/WagonVideos/1690281365.mp4 has 733 frames\n",
      "File C:/Users/stani/Documents/WagonVideos/1692830440.mp4 not found\n",
      "File C:/Users/stani/Documents/WagonVideos/1690801380.mp4 not found\n",
      "File C:/Users/stani/Documents/WagonVideos/1691487366.mp4 not found\n",
      "File C:/Users/stani/Documents/WagonVideos/1692787289.mp4 not found\n",
      "File C:/Users/stani/Documents/WagonVideos/1692875102.mp4 not found\n",
      "File C:/Users/stani/Documents/WagonVideos/1692945482.mp4 not found\n",
      "File C:/Users/stani/Documents/WagonVideos/1693811855.mp4 not found\n",
      "File C:/Users/stani/Documents/WagonVideos/1693954819.mp4 not found\n",
      "File C:/Users/stani/Documents/WagonVideos/1693805101.mp4 not found\n",
      "File C:/Users/stani/Documents/WagonVideos/1693820172.mp4 not found\n",
      "File C:/Users/stani/Documents/WagonVideos/1691496786.mp4 not found\n",
      "File C:/Users/stani/Documents/WagonVideos/1692872075.mp4 not found\n",
      "File C:/Users/stani/Documents/WagonVideos/1693308534.mp4 not found\n",
      "File C:/Users/stani/Documents/WagonVideos/1693308657.mp4 not found\n",
      "File C:/Users/stani/Documents/WagonVideos/1693309263.mp4 not found\n",
      "File C:/Users/stani/Documents/WagonVideos/1693820241.mp4 not found\n",
      "File C:/Users/stani/Documents/WagonVideos/1693820504.mp4 not found\n",
      "File C:/Users/stani/Documents/WagonVideos/1693820904.mp4 not found\n",
      "File C:/Users/stani/Documents/WagonVideos/1696009577.mp4 not found\n",
      "File C:/Users/stani/Documents/WagonVideos/1696374314.mp4 not found\n",
      "File C:/Users/stani/Documents/WagonVideos/1696416413.mp4 not found\n",
      "File C:/Users/stani/Documents/WagonVideos/1696441496.mp4 not found\n"
     ]
    }
   ],
   "source": [
    "\n",
    "for row in videos:\n",
    "    video_path = video_directory + '/' + row\n",
    "    \n",
    "    if (os.path.exists(video_path) == False):\n",
    "        print(f\"File {video_path} not found\")\n",
    "        continue\n",
    "    processed_source = row.split('.')[0]\n",
    "    print(f\"File {video_path} found\")\n",
    "    # Open video file\n",
    "    cap = cv2.VideoCapture(video_path)\n",
    "    frame_count = int(cap.get(cv2.CAP_PROP_FRAME_COUNT))\n",
    "    print(f\"File {video_path} has {frame_count} frames\")\n",
    "    lables = df[df['Source'] == row]\n",
    "    # save each frame and .txt file with labels\n",
    "    frame_idx = 0\n",
    "    while frame_idx < frame_count:\n",
    "        ret, frame = cap.read()  # Read each frame\n",
    "        if not ret:\n",
    "            break  # End of video\n",
    "        if(frame_idx in lables['Relative Frame'].values):\n",
    "            # Save frame\n",
    "            frame_index = str(frame_idx).zfill(5)\n",
    "            frame_name = f\"{processed_source}_{frame_index}.jpg\"\n",
    "            cv2.imwrite(path + \"/yolo/frames/\" + frame_name, frame)\n",
    "            # Save labels\n",
    "            label_name = f\"{processed_source}_{frame_index}.txt\"\n",
    "            with open(path.replace('/','\\\\') + \"\\\\yolo\\\\labels\\\\\" + label_name, \"w\") as f:\n",
    "                row = lables[lables['Relative Frame'] == frame_idx]\n",
    "                f.write(f\"1 {row['XTL'].values[0]} {row['YTL'].values[0]} {row['XBR'].values[0]} {row['YBR'].values[0]}\\n\")\n",
    "        else:\n",
    "             # Save frame\n",
    "            frame_index = str(frame_idx).zfill(5)\n",
    "            frame_name = f\"{processed_source}_{frame_index}.jpg\"\n",
    "            cv2.imwrite(path + \"/yolo/frames/\" + frame_name, frame)\n",
    "            # Save labels\n",
    "            label_name = f\"{processed_source}_{frame_index}.txt\"\n",
    "            with open(path.replace('/','\\\\') + \"\\\\yolo\\\\labels\\\\\" + label_name, \"w\") as f:\n",
    "                f.write(f\"\")\n",
    "        frame_idx += 1\n",
    "    cap.release()"
   ]
  }
 ],
 "metadata": {
  "kernelspec": {
   "display_name": "env",
   "language": "python",
   "name": "python3"
  },
  "language_info": {
   "codemirror_mode": {
    "name": "ipython",
    "version": 3
   },
   "file_extension": ".py",
   "mimetype": "text/x-python",
   "name": "python",
   "nbconvert_exporter": "python",
   "pygments_lexer": "ipython3",
   "version": "3.12.6"
  }
 },
 "nbformat": 4,
 "nbformat_minor": 2
}
