{
 "cells": [
  {
   "cell_type": "code",
   "execution_count": 2,
   "metadata": {},
   "outputs": [
    {
     "name": "stderr",
     "output_type": "stream",
     "text": [
      "c:\\Users\\stani\\Documents\\Code\\Python\\HIN\\UN-number-detection\\env\\Lib\\site-packages\\tqdm\\auto.py:21: TqdmWarning: IProgress not found. Please update jupyter and ipywidgets. See https://ipywidgets.readthedocs.io/en/stable/user_install.html\n",
      "  from .autonotebook import tqdm as notebook_tqdm\n"
     ]
    }
   ],
   "source": [
    "import kagglehub\n",
    "import pandas as pd\n",
    "import os\n",
    "import cv2"
   ]
  },
  {
   "cell_type": "code",
   "execution_count": 3,
   "metadata": {},
   "outputs": [],
   "source": [
    "distribution = [('train', 0.8), ('test', 0.1), ('val', 0.1)]"
   ]
  },
  {
   "cell_type": "code",
   "execution_count": 4,
   "metadata": {},
   "outputs": [
    {
     "name": "stdout",
     "output_type": "stream",
     "text": [
      "Path to dataset files: C:\\Users\\stani\\.cache\\kagglehub\\datasets\\stanislavlevendeev\\hazmat-detection\\versions\\6\n",
      "Path to video files: C:/Users/stani/Documents/WagonVideos\n"
     ]
    }
   ],
   "source": [
    "path = kagglehub.dataset_download(\"stanislavlevendeev/hazmat-detection\")\n",
    "video_directory = os.environ[\"PATH_TO_DATA\"]\n",
    "print(\"Path to dataset files:\", path)\n",
    "print(\"Path to video files:\", video_directory)"
   ]
  },
  {
   "cell_type": "code",
   "execution_count": 5,
   "metadata": {},
   "outputs": [
    {
     "data": {
      "text/plain": [
       "array(['1690279852.mp4', '1690281365.mp4', '1692830440.mp4',\n",
       "       '1690801380.mp4', '1691487366.mp4', '1692787289.mp4',\n",
       "       '1692875102.mp4', '1692945482.mp4', '1693811855.mp4',\n",
       "       '1693954819.mp4', '1693805101.mp4', '1693820172.mp4',\n",
       "       '1691496786.mp4', '1692872075.mp4', '1693308534.mp4',\n",
       "       '1693308657.mp4', '1693309263.mp4', '1693820241.mp4',\n",
       "       '1693820504.mp4', '1693820904.mp4', '1696009577.mp4',\n",
       "       '1696374314.mp4', '1696416413.mp4', '1696441496.mp4'], dtype=object)"
      ]
     },
     "execution_count": 5,
     "metadata": {},
     "output_type": "execute_result"
    }
   ],
   "source": [
    "df = pd.read_csv(path + \"/labels_dataframe.csv\")\n",
    "videos = df[\"Source\"].unique()\n",
    "videos"
   ]
  },
  {
   "cell_type": "code",
   "execution_count": 6,
   "metadata": {},
   "outputs": [
    {
     "data": {
      "text/plain": [
       "['1690281365.mp4']"
      ]
     },
     "execution_count": 6,
     "metadata": {},
     "output_type": "execute_result"
    }
   ],
   "source": [
    "available_videos = os.listdir(video_directory)\n",
    "available_videos = [video for video in available_videos if video.endswith(\".mp4\")]\n",
    "available_videos = [video for video in available_videos if video in videos]\n",
    "available_videos"
   ]
  },
  {
   "cell_type": "code",
   "execution_count": 25,
   "metadata": {},
   "outputs": [
    {
     "data": {
      "text/plain": [
       "np.int64(733)"
      ]
     },
     "execution_count": 25,
     "metadata": {},
     "output_type": "execute_result"
    }
   ],
   "source": [
    "total_frames = df[df[\"Source\"].isin(available_videos)]\n",
    "total_frames = total_frames[[\"Source\", \"Frames\"]].drop_duplicates()[\"Frames\"].sum()\n",
    "total_frames"
   ]
  },
  {
   "cell_type": "code",
   "execution_count": 26,
   "metadata": {},
   "outputs": [
    {
     "name": "stdout",
     "output_type": "stream",
     "text": [
      "0\n",
      "586.4\n"
     ]
    }
   ],
   "source": [
    "dataset = 0\n",
    "print(int(distribution[dataset][1]))\n",
    "switch_frame = distribution[dataset][1] * total_frames.astype(int)\n",
    "print(switch_frame)"
   ]
  },
  {
   "cell_type": "code",
   "execution_count": 27,
   "metadata": {},
   "outputs": [
    {
     "name": "stdout",
     "output_type": "stream",
     "text": [
      "File C:/Users/stani/Documents/WagonVideos/1690281365.mp4 has 733 frames\n",
      "Switched to test dataset\n",
      "Switched to val dataset\n"
     ]
    }
   ],
   "source": [
    "frames_count = 0\n",
    "labels_dir = os.path.join(path, \"yolo\", \"labels\", distribution[dataset][0])\n",
    "frames_dir = os.path.join(path, \"yolo\", \"frames\", distribution[dataset][0])\n",
    "os.makedirs(labels_dir, exist_ok=True)\n",
    "os.makedirs(frames_dir, exist_ok=True)\n",
    "for row in available_videos:\n",
    "    video_path = video_directory + '/' + row\n",
    "    if (os.path.exists(video_path) == False):\n",
    "        print(f\"File {video_path} not found\")\n",
    "        continue\n",
    "    processed_source = row.split('.')[0]\n",
    "    # Open video file\n",
    "    cap = cv2.VideoCapture(video_path)\n",
    "    number_of_frames = int(cap.get(cv2.CAP_PROP_FRAME_COUNT))\n",
    "    print(f\"File {video_path} has {number_of_frames} frames\")\n",
    "    lables = df[df['Source'] == row]\n",
    "    # save each frame and .txt file with labels\n",
    "    frame_idx = 0\n",
    "    while frame_idx < number_of_frames:\n",
    "        if(frame_idx + frames_count >= switch_frame):\n",
    "            dataset += 1\n",
    "            switch_frame += distribution[dataset][1] * total_frames\n",
    "            labels_dir = os.path.join(path, \"yolo\", \"labels\", distribution[dataset][0])\n",
    "            frames_dir = os.path.join(path, \"yolo\", \"frames\", distribution[dataset][0])\n",
    "            os.makedirs(labels_dir, exist_ok=True)\n",
    "            os.makedirs(frames_dir, exist_ok=True)\n",
    "            print(f\"Switched to {distribution[dataset][0]} dataset\")\n",
    "        ret, frame = cap.read()  # Read each frame\n",
    "        img_height, img_width, _ = frame.shape\n",
    "        img_height = int(img_height)\n",
    "        img_width = int(img_width)\n",
    "        if not ret:\n",
    "            break  # End of video\n",
    "        # Save frame\n",
    "        frame_index = str(frame_idx).zfill(5)\n",
    "        frame_name = f\"{processed_source}_{frame_index}.jpg\"\n",
    "        cv2.imwrite(f\"{frames_dir}/{frame_name}\", frame)\n",
    "        label_name = f\"{processed_source}_{frame_index}.txt\"\n",
    "        if(frame_idx in lables['Relative Frame'].values):\n",
    "            # Normalize bounding box coordinates\n",
    "            row = lables[lables['Relative Frame'] == frame_idx]\n",
    "            x_center = ((float(row['XTL'].values[0]) + float(row['XBR'].values[0])) / 2) / img_width\n",
    "            y_center = ((float(row['YTL'].values[0]) + float(row['YBR'].values[0])) / 2) / img_height\n",
    "            width = (float(row['XBR'].values[0]) - float(row['XTL'].values[0])) / img_width\n",
    "            height = (float(row['YBR'].values[0]) - float(row['YTL'].values[0])) / img_height\n",
    "            with open(os.path.join(labels_dir, label_name), \"w\") as f:\n",
    "                f.write(f\"{0} {x_center} {y_center} {width} {height}\\n\")\n",
    "        else:\n",
    "            if(distribution[dataset][0] != \"train\"):\n",
    "                with open(os.path.join(labels_dir, label_name), \"w\") as f:\n",
    "                    f.write(f\"\")\n",
    "        frame_idx += 1\n",
    "    frames_count += number_of_frames\n",
    "    cap.release()"
   ]
  }
 ],
 "metadata": {
  "kernelspec": {
   "display_name": "env",
   "language": "python",
   "name": "python3"
  },
  "language_info": {
   "codemirror_mode": {
    "name": "ipython",
    "version": 3
   },
   "file_extension": ".py",
   "mimetype": "text/x-python",
   "name": "python",
   "nbconvert_exporter": "python",
   "pygments_lexer": "ipython3",
   "version": "3.12.6"
  }
 },
 "nbformat": 4,
 "nbformat_minor": 2
}
