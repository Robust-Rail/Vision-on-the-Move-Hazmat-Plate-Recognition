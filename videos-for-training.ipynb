version https://git-lfs.github.com/spec/v1
oid sha256:3527b01907a6f96fdfca64c18844d5e0834ba37bdc8a8e3f1d562b51b8da5944
size 1164612
