{
 "cells": [
  {
   "cell_type": "code",
   "execution_count": 9,
   "metadata": {},
   "outputs": [
    {
     "name": "stderr",
     "output_type": "stream",
     "text": [
      "\n",
      "[notice] A new release of pip is available: 24.2 -> 24.3.1\n",
      "[notice] To update, run: python.exe -m pip install --upgrade pip\n"
     ]
    },
    {
     "name": "stdout",
     "output_type": "stream",
     "text": [
      "Requirement already satisfied: kagglehub in c:\\python312\\lib\\site-packages (0.3.4)\n",
      "Requirement already satisfied: packaging in c:\\python312\\lib\\site-packages (from kagglehub) (24.1)\n",
      "Requirement already satisfied: requests in c:\\python312\\lib\\site-packages (from kagglehub) (2.32.3)\n",
      "Requirement already satisfied: tqdm in c:\\python312\\lib\\site-packages (from kagglehub) (4.66.5)\n",
      "Requirement already satisfied: charset-normalizer<4,>=2 in c:\\python312\\lib\\site-packages (from requests->kagglehub) (3.3.2)\n",
      "Requirement already satisfied: idna<4,>=2.5 in c:\\python312\\lib\\site-packages (from requests->kagglehub) (3.7)\n",
      "Requirement already satisfied: urllib3<3,>=1.21.1 in c:\\python312\\lib\\site-packages (from requests->kagglehub) (2.2.2)\n",
      "Requirement already satisfied: certifi>=2017.4.17 in c:\\python312\\lib\\site-packages (from requests->kagglehub) (2024.7.4)\n",
      "Requirement already satisfied: colorama in c:\\python312\\lib\\site-packages (from tqdm->kagglehub) (0.4.6)\n",
      "Note: you may need to restart the kernel to use updated packages.\n",
      "Downloading from https://www.kaggle.com/api/v1/datasets/download/stanislavlevendeev/hazmat-detection?dataset_version_number=1...\n"
     ]
    },
    {
     "name": "stderr",
     "output_type": "stream",
     "text": [
      "100%|██████████| 14.7M/14.7M [00:01<00:00, 8.08MB/s]"
     ]
    },
    {
     "name": "stdout",
     "output_type": "stream",
     "text": [
      "Extracting files...\n"
     ]
    },
    {
     "name": "stderr",
     "output_type": "stream",
     "text": [
      "\n"
     ]
    },
    {
     "name": "stdout",
     "output_type": "stream",
     "text": [
      "Path to dataset files: C:\\Users\\ewald\\.cache\\kagglehub\\datasets\\stanislavlevendeev\\hazmat-detection\\versions\\1\n"
     ]
    }
   ],
   "source": [
    "import os\n",
    "import xml.etree.ElementTree as ET\n",
    "import kagglehub\n",
    "\n",
    "# Download latest version\n",
    "path = kagglehub.dataset_download(\"stanislavlevendeev/hazmat-detection\")\n",
    "\n",
    "print(\"Path to dataset files:\", path)"
   ]
  },
  {
   "cell_type": "code",
   "execution_count": 30,
   "metadata": {},
   "outputs": [
    {
     "name": "stdout",
     "output_type": "stream",
     "text": [
      "Task ID: 138, source: 1690279852.mp4\n",
      "Task ID: 142, source: 1690281365.mp4\n",
      "Task ID: 143, source: 1690279852.mp4\n",
      "Task ID: 148, source: 1692830440.mp4\n",
      "Task ID: 149, source: 1690801380.mp4\n",
      "Task ID: 150, source: 1691487366.mp4\n",
      "Task ID: 151, source: 1692787289.mp4\n",
      "Task ID: 155, source: 1692875102.mp4\n",
      "Task ID: 158, source: 1692945482.mp4\n",
      "Task ID: 161, source: 1693811855.mp4\n",
      "Task ID: 162, source: 1693954819.mp4\n",
      "Task ID: 163, source: 1693805101.mp4\n",
      "Task ID: 164, source: 1693820172.mp4\n",
      "Task ID: 166, source: 1692787289.mp4\n",
      "Task ID: 167, source: 1691496786.mp4\n",
      "Task ID: 168, source: 1692872075.mp4\n",
      "Task ID: 169, source: 1693308534.mp4\n",
      "Task ID: 170, source: 1693308657.mp4\n",
      "Task ID: 171, source: 1693309263.mp4\n",
      "Task ID: 172, source: 1693820241.mp4\n",
      "Task ID: 173, source: 1693820504.mp4\n",
      "Task ID: 174, source: 1693820904.mp4\n",
      "Task ID: 175, source: 1696009577.mp4\n",
      "Task ID: 176, source: 1696374314.mp4\n",
      "Task ID: 177, source: 1696416413.mp4\n",
      "Task ID: 178, source: 1696441496.mp4\n",
      "26 tasks found\n"
     ]
    }
   ],
   "source": [
    "# Pad naar het XML-bestand\n",
    "file_path = os.path.join(path, 'cvat-for-video-dataset-hazmat-codes', 'annotations.xml')\n",
    "\n",
    "# XML-bestand openen en parsen\n",
    "tree = ET.parse(file_path)\n",
    "root = tree.getroot()\n",
    "\n",
    "# Taken ophalen\n",
    "tasks = []\n",
    "for task in root.findall(\".//task\"):\n",
    "    task_id = task.find(\"id\").text\n",
    "    task_source = task.find(\"source\").text\n",
    "    tasks.append({\"id\": task_id, \"source\": task_source})\n",
    "\n",
    "# Taken printen\n",
    "for task in tasks:\n",
    "    print(f\"Task ID: {task['id']}, source: {task['source']}\")\n",
    "\n",
    "print(len(tasks), \"tasks found\")"
   ]
  },
  {
   "cell_type": "code",
   "execution_count": 31,
   "metadata": {},
   "outputs": [
    {
     "name": "stdout",
     "output_type": "stream",
     "text": [
      "data/videos\n"
     ]
    }
   ],
   "source": [
    "# Directory containing video files\n",
    "video_directory = os.environ[\"PATH_TO_DATA\"]\n",
    "print (video_directory)"
   ]
  },
  {
   "cell_type": "code",
   "execution_count": 36,
   "metadata": {},
   "outputs": [
    {
     "name": "stdout",
     "output_type": "stream",
     "text": [
      "Video file data/videos\\1692830440.mp4 not found\n",
      "Video file data/videos\\1690801380.mp4 not found\n",
      "Video file data/videos\\1691487366.mp4 not found\n",
      "Video file data/videos\\1692787289.mp4 not found\n",
      "Video file data/videos\\1692945482.mp4 not found\n",
      "Video file data/videos\\1693811855.mp4 not found\n",
      "Video file data/videos\\1693954819.mp4 not found\n",
      "Video file data/videos\\1693805101.mp4 not found\n",
      "Video file data/videos\\1693820172.mp4 not found\n",
      "Video file data/videos\\1692787289.mp4 not found\n",
      "Video file data/videos\\1691496786.mp4 not found\n",
      "Video file data/videos\\1692872075.mp4 not found\n",
      "Video file data/videos\\1693308657.mp4 not found\n",
      "Video file data/videos\\1693309263.mp4 not found\n",
      "Video file data/videos\\1693820241.mp4 not found\n",
      "Video file data/videos\\1693820504.mp4 not found\n",
      "Video file data/videos\\1693820904.mp4 not found\n",
      "Video file data/videos\\1696009577.mp4 not found\n",
      "Video file data/videos\\1696374314.mp4 not found\n",
      "Video file data/videos\\1696416413.mp4 not found\n",
      "Video file data/videos\\1696441496.mp4 not found\n",
      "5/26 video files found\n"
     ]
    }
   ],
   "source": [
    "video_files = []\n",
    "#  make a list of only the videos mentioned in the tasks\n",
    "for task in tasks:\n",
    "    video_name = task[\"source\"]\n",
    "    video_path = os.path.join(video_directory, video_name)\n",
    "    if os.path.exists(video_path):\n",
    "        video_files.append(video_path)\n",
    "    else:\n",
    "        print(f\"Video file {video_path} not found\")\n",
    "print(f\"{len(video_files)}/{len(tasks)} video files found\")"
   ]
  }
 ],
 "metadata": {
  "kernelspec": {
   "display_name": "Python 3",
   "language": "python",
   "name": "python3"
  },
  "language_info": {
   "codemirror_mode": {
    "name": "ipython",
    "version": 3
   },
   "file_extension": ".py",
   "mimetype": "text/x-python",
   "name": "python",
   "nbconvert_exporter": "python",
   "pygments_lexer": "ipython3",
   "version": "3.12.4"
  }
 },
 "nbformat": 4,
 "nbformat_minor": 2
}
