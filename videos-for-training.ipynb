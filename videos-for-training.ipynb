version https://git-lfs.github.com/spec/v1
oid sha256:0f81c21e485d6729f679baed4e6a4fb078b19bf0ad2eb4fab1066aca2e34f5d2
size 1166248
