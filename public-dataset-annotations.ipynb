{
 "cells": [
  {
   "cell_type": "code",
   "execution_count": 15,
   "metadata": {},
   "outputs": [],
   "source": [
    "import kagglehub\n",
    "from lxml import etree\n",
    "import pandas as pd\n",
    "import json\n",
    "from tqdm import tqdm\n",
    "import cv2\n",
    "import matplotlib.pyplot as plt"
   ]
  },
  {
   "cell_type": "code",
   "execution_count": 16,
   "metadata": {},
   "outputs": [
    {
     "name": "stdout",
     "output_type": "stream",
     "text": [
      "Warning: Looks like you're using an outdated `kagglehub` version (installed: 0.3.6), please consider upgrading to the latest version (0.3.10).\n"
     ]
    }
   ],
   "source": [
    "path = kagglehub.dataset_download(\"stanislavlevendeev/haz-mat-signs\")"
   ]
  },
  {
   "cell_type": "code",
   "execution_count": 17,
   "metadata": {},
   "outputs": [],
   "source": [
    "annotations_path = path + \"/annotations.xml\""
   ]
  },
  {
   "cell_type": "code",
   "execution_count": 18,
   "metadata": {},
   "outputs": [
    {
     "name": "stdout",
     "output_type": "stream",
     "text": [
      "Root element: annotations\n"
     ]
    }
   ],
   "source": [
    "tree = etree.parse(annotations_path)\n",
    "# Get the root element\n",
    "root = tree.getroot()\n",
    "print(\"Root element:\", root.tag)\n"
   ]
  },
  {
   "cell_type": "code",
   "execution_count": 19,
   "metadata": {},
   "outputs": [],
   "source": [
    "images_with_boxes = []\n",
    "\n",
    "for image in root.findall('image'):\n",
    "    for box in image.findall('box'):\n",
    "        image_id = image.get('name').split('.')[0]\n",
    "        if(len(image_id.split('/')) > 1):\n",
    "            image_id = image_id.split('/')[1]\n",
    "        attributes = {}\n",
    "        for attribute in box.findall('attribute'):\n",
    "            attributes[attribute.get('name')] = attribute.text\n",
    "        image_info = {\n",
    "            'image_id': image_id,\n",
    "            'image_name': image.get('name'),\n",
    "            'task_id': image.get('task_id'),\n",
    "            'width': image.get('width'),\n",
    "            'height': image.get('height'),\n",
    "            'box_label': box.get('label'),\n",
    "            'box_source': box.get('source'),\n",
    "            'box_xtl': box.get('xtl'),\n",
    "            'box_ytl': box.get('ytl'),\n",
    "            'box_xbr': box.get('xbr'),\n",
    "            'box_ybr': box.get('ybr'),\n",
    "            'issue': attributes.get('issue', None),  \n",
    "            'code': attributes.get('code', None)    \n",
    "\n",
    "        }\n",
    "        images_with_boxes.append(image_info)"
   ]
  },
  {
   "cell_type": "code",
   "execution_count": null,
   "metadata": {},
   "outputs": [],
   "source": [
    "df_images_with_boxes = pd.DataFrame(images_with_boxes)"
   ]
  },
  {
   "cell_type": "code",
   "execution_count": 21,
   "metadata": {},
   "outputs": [
    {
     "data": {
      "text/html": [
       "<div>\n",
       "<style scoped>\n",
       "    .dataframe tbody tr th:only-of-type {\n",
       "        vertical-align: middle;\n",
       "    }\n",
       "\n",
       "    .dataframe tbody tr th {\n",
       "        vertical-align: top;\n",
       "    }\n",
       "\n",
       "    .dataframe thead th {\n",
       "        text-align: right;\n",
       "    }\n",
       "</style>\n",
       "<table border=\"1\" class=\"dataframe\">\n",
       "  <thead>\n",
       "    <tr style=\"text-align: right;\">\n",
       "      <th></th>\n",
       "      <th>image_id</th>\n",
       "      <th>image_name</th>\n",
       "      <th>task_id</th>\n",
       "      <th>width</th>\n",
       "      <th>height</th>\n",
       "      <th>box_label</th>\n",
       "      <th>box_source</th>\n",
       "      <th>box_xtl</th>\n",
       "      <th>box_ytl</th>\n",
       "      <th>box_xbr</th>\n",
       "      <th>box_ybr</th>\n",
       "      <th>issue</th>\n",
       "      <th>code</th>\n",
       "    </tr>\n",
       "  </thead>\n",
       "  <tbody>\n",
       "    <tr>\n",
       "      <th>0</th>\n",
       "      <td>10</td>\n",
       "      <td>images/10.png</td>\n",
       "      <td>226</td>\n",
       "      <td>1000</td>\n",
       "      <td>668</td>\n",
       "      <td>hazmat_sign</td>\n",
       "      <td>manual</td>\n",
       "      <td>825.87</td>\n",
       "      <td>413.29</td>\n",
       "      <td>855.01</td>\n",
       "      <td>437.19</td>\n",
       "      <td>low quality</td>\n",
       "      <td>90/3082</td>\n",
       "    </tr>\n",
       "    <tr>\n",
       "      <th>1</th>\n",
       "      <td>100</td>\n",
       "      <td>images/100.png</td>\n",
       "      <td>226</td>\n",
       "      <td>809</td>\n",
       "      <td>1080</td>\n",
       "      <td>hazmat_sign</td>\n",
       "      <td>manual</td>\n",
       "      <td>187.30</td>\n",
       "      <td>571.99</td>\n",
       "      <td>248.56</td>\n",
       "      <td>618.26</td>\n",
       "      <td>None</td>\n",
       "      <td>22/1965</td>\n",
       "    </tr>\n",
       "    <tr>\n",
       "      <th>2</th>\n",
       "      <td>101</td>\n",
       "      <td>images/101.png</td>\n",
       "      <td>226</td>\n",
       "      <td>812</td>\n",
       "      <td>1080</td>\n",
       "      <td>hazmat_sign</td>\n",
       "      <td>manual</td>\n",
       "      <td>541.74</td>\n",
       "      <td>507.06</td>\n",
       "      <td>654.83</td>\n",
       "      <td>606.01</td>\n",
       "      <td>None</td>\n",
       "      <td>23/1049</td>\n",
       "    </tr>\n",
       "    <tr>\n",
       "      <th>3</th>\n",
       "      <td>102</td>\n",
       "      <td>images/102.png</td>\n",
       "      <td>226</td>\n",
       "      <td>810</td>\n",
       "      <td>1079</td>\n",
       "      <td>hazmat_sign</td>\n",
       "      <td>manual</td>\n",
       "      <td>426.69</td>\n",
       "      <td>474.05</td>\n",
       "      <td>566.98</td>\n",
       "      <td>576.68</td>\n",
       "      <td>None</td>\n",
       "      <td>23/1049</td>\n",
       "    </tr>\n",
       "    <tr>\n",
       "      <th>4</th>\n",
       "      <td>103</td>\n",
       "      <td>images/103.png</td>\n",
       "      <td>226</td>\n",
       "      <td>808</td>\n",
       "      <td>1080</td>\n",
       "      <td>hazmat_sign</td>\n",
       "      <td>manual</td>\n",
       "      <td>320.08</td>\n",
       "      <td>722.87</td>\n",
       "      <td>451.08</td>\n",
       "      <td>840.67</td>\n",
       "      <td>None</td>\n",
       "      <td>30/1202</td>\n",
       "    </tr>\n",
       "  </tbody>\n",
       "</table>\n",
       "</div>"
      ],
      "text/plain": [
       "  image_id      image_name task_id width height    box_label box_source  \\\n",
       "0       10   images/10.png     226  1000    668  hazmat_sign     manual   \n",
       "1      100  images/100.png     226   809   1080  hazmat_sign     manual   \n",
       "2      101  images/101.png     226   812   1080  hazmat_sign     manual   \n",
       "3      102  images/102.png     226   810   1079  hazmat_sign     manual   \n",
       "4      103  images/103.png     226   808   1080  hazmat_sign     manual   \n",
       "\n",
       "  box_xtl box_ytl box_xbr box_ybr        issue     code  \n",
       "0  825.87  413.29  855.01  437.19  low quality  90/3082  \n",
       "1  187.30  571.99  248.56  618.26         None  22/1965  \n",
       "2  541.74  507.06  654.83  606.01         None  23/1049  \n",
       "3  426.69  474.05  566.98  576.68         None  23/1049  \n",
       "4  320.08  722.87  451.08  840.67         None  30/1202  "
      ]
     },
     "execution_count": 21,
     "metadata": {},
     "output_type": "execute_result"
    }
   ],
   "source": [
    "df_images_with_boxes.head()"
   ]
  },
  {
   "cell_type": "code",
   "execution_count": 22,
   "metadata": {},
   "outputs": [
    {
     "data": {
      "text/plain": [
       "(211,)"
      ]
     },
     "execution_count": 22,
     "metadata": {},
     "output_type": "execute_result"
    }
   ],
   "source": [
    "df_images_with_boxes['image_id'].unique().shape"
   ]
  },
  {
   "cell_type": "code",
   "execution_count": 23,
   "metadata": {},
   "outputs": [],
   "source": [
    "def create_coco_annotations(df_images_with_boxes, output_path):\n",
    "    # Create categories\n",
    "    categories = []\n",
    "    for i, label in enumerate(df_images_with_boxes['box_label'].unique()):\n",
    "        categories.append({'id': i + 1, 'name': label, 'supercategory': 'none'})\n",
    "    images = []\n",
    "    annotations = []\n",
    "    image_id = 0\n",
    "    annotation_id = 0\n",
    "    for image_name in tqdm(df_images_with_boxes['image_name'].unique()):\n",
    "        image_id += 1\n",
    "        image_info = df_images_with_boxes[df_images_with_boxes['image_name'] == image_name].iloc[0]\n",
    "        images.append({\n",
    "            'id': image_id,\n",
    "            'file_name': image_name,\n",
    "            'width': image_info['width'],\n",
    "            'height': image_info['height'],\n",
    "        })\n",
    "        for _, row in df_images_with_boxes[df_images_with_boxes['image_name'] == image_name].iterrows():\n",
    "            annotation_id += 1\n",
    "            annotations.append({\n",
    "                'id': annotation_id,\n",
    "                'image_id': image_id,\n",
    "                'category_id': 1,\n",
    "                'bbox': [row['box_xtl'], row['box_ytl'], float(row['box_xbr']) - float(row['box_xtl']), float(row['box_ybr']) - float(row['box_ytl'])],\n",
    "                'area': (float(row['box_xbr']) - float(row['box_xtl'])) * (float(row['box_ybr']) - float(row['box_ytl'])),\n",
    "                'iscrowd': 0,\n",
    "            })\n",
    "    coco_data = {\n",
    "        'images': images,\n",
    "        'annotations': annotations,\n",
    "        'categories': categories,\n",
    "    }\n",
    "    with open(output_path, 'w') as f:\n",
    "        json.dump(coco_data, f)"
   ]
  },
  {
   "cell_type": "code",
   "execution_count": 24,
   "metadata": {},
   "outputs": [
    {
     "name": "stderr",
     "output_type": "stream",
     "text": [
      "100%|██████████| 211/211 [00:00<00:00, 3318.66it/s]\n"
     ]
    }
   ],
   "source": [
    "create_coco_annotations(df_images_with_boxes, 'data/hazmat_coco.json')"
   ]
  },
  {
   "cell_type": "code",
   "execution_count": 25,
   "metadata": {},
   "outputs": [],
   "source": [
    "#create yolo dataset annotations only labels files \n",
    "def create_yolo_annotations(df_images_with_boxes, output_path):\n",
    "    for image_name in tqdm(df_images_with_boxes['image_name'].unique()):\n",
    "        image_info = df_images_with_boxes[df_images_with_boxes['image_name'] == image_name].iloc[0]\n",
    "        image_id = image_info['image_id']\n",
    "        image_width = int(image_info['width'])\n",
    "        image_height = int(image_info['height'])\n",
    "        with open(output_path + '/' + image_id + '.txt', 'w') as f:\n",
    "            for _, row in df_images_with_boxes[df_images_with_boxes['image_name'] == image_name].iterrows():\n",
    "                x_center = (float(row['box_xtl']) + float(row['box_xbr'])) / 2\n",
    "                y_center = (float(row['box_ytl']) + float(row['box_ybr'])) / 2\n",
    "                width = float(row['box_xbr']) - float(row['box_xtl'])\n",
    "                height = float(row['box_ybr']) - float(row['box_ytl'])\n",
    "                x_center /= image_width\n",
    "                y_center /= image_height\n",
    "                width /= image_width\n",
    "                height /= image_height\n",
    "                f.write(f\"0 {x_center} {y_center} {width} {height}\\n\")"
   ]
  },
  {
   "cell_type": "code",
   "execution_count": 26,
   "metadata": {},
   "outputs": [
    {
     "name": "stderr",
     "output_type": "stream",
     "text": [
      "  0%|          | 0/211 [00:00<?, ?it/s]\n"
     ]
    },
    {
     "ename": "FileNotFoundError",
     "evalue": "[Errno 2] No such file or directory: 'data/yolo_labels/10.txt'",
     "output_type": "error",
     "traceback": [
      "\u001b[1;31m---------------------------------------------------------------------------\u001b[0m",
      "\u001b[1;31mFileNotFoundError\u001b[0m                         Traceback (most recent call last)",
      "Cell \u001b[1;32mIn[26], line 1\u001b[0m\n\u001b[1;32m----> 1\u001b[0m \u001b[43mcreate_yolo_annotations\u001b[49m\u001b[43m(\u001b[49m\u001b[43mdf_images_with_boxes\u001b[49m\u001b[43m,\u001b[49m\u001b[43m \u001b[49m\u001b[38;5;124;43m'\u001b[39;49m\u001b[38;5;124;43mdata/yolo_labels\u001b[39;49m\u001b[38;5;124;43m'\u001b[39;49m\u001b[43m)\u001b[49m\n",
      "Cell \u001b[1;32mIn[25], line 8\u001b[0m, in \u001b[0;36mcreate_yolo_annotations\u001b[1;34m(df_images_with_boxes, output_path)\u001b[0m\n\u001b[0;32m      6\u001b[0m image_width \u001b[38;5;241m=\u001b[39m \u001b[38;5;28mint\u001b[39m(image_info[\u001b[38;5;124m'\u001b[39m\u001b[38;5;124mwidth\u001b[39m\u001b[38;5;124m'\u001b[39m])\n\u001b[0;32m      7\u001b[0m image_height \u001b[38;5;241m=\u001b[39m \u001b[38;5;28mint\u001b[39m(image_info[\u001b[38;5;124m'\u001b[39m\u001b[38;5;124mheight\u001b[39m\u001b[38;5;124m'\u001b[39m])\n\u001b[1;32m----> 8\u001b[0m \u001b[38;5;28;01mwith\u001b[39;00m \u001b[38;5;28;43mopen\u001b[39;49m\u001b[43m(\u001b[49m\u001b[43moutput_path\u001b[49m\u001b[43m \u001b[49m\u001b[38;5;241;43m+\u001b[39;49m\u001b[43m \u001b[49m\u001b[38;5;124;43m'\u001b[39;49m\u001b[38;5;124;43m/\u001b[39;49m\u001b[38;5;124;43m'\u001b[39;49m\u001b[43m \u001b[49m\u001b[38;5;241;43m+\u001b[39;49m\u001b[43m \u001b[49m\u001b[43mimage_id\u001b[49m\u001b[43m \u001b[49m\u001b[38;5;241;43m+\u001b[39;49m\u001b[43m \u001b[49m\u001b[38;5;124;43m'\u001b[39;49m\u001b[38;5;124;43m.txt\u001b[39;49m\u001b[38;5;124;43m'\u001b[39;49m\u001b[43m,\u001b[49m\u001b[43m \u001b[49m\u001b[38;5;124;43m'\u001b[39;49m\u001b[38;5;124;43mw\u001b[39;49m\u001b[38;5;124;43m'\u001b[39;49m\u001b[43m)\u001b[49m \u001b[38;5;28;01mas\u001b[39;00m f:\n\u001b[0;32m      9\u001b[0m     \u001b[38;5;28;01mfor\u001b[39;00m _, row \u001b[38;5;129;01min\u001b[39;00m df_images_with_boxes[df_images_with_boxes[\u001b[38;5;124m'\u001b[39m\u001b[38;5;124mimage_name\u001b[39m\u001b[38;5;124m'\u001b[39m] \u001b[38;5;241m==\u001b[39m image_name]\u001b[38;5;241m.\u001b[39miterrows():\n\u001b[0;32m     10\u001b[0m         x_center \u001b[38;5;241m=\u001b[39m (\u001b[38;5;28mfloat\u001b[39m(row[\u001b[38;5;124m'\u001b[39m\u001b[38;5;124mbox_xtl\u001b[39m\u001b[38;5;124m'\u001b[39m]) \u001b[38;5;241m+\u001b[39m \u001b[38;5;28mfloat\u001b[39m(row[\u001b[38;5;124m'\u001b[39m\u001b[38;5;124mbox_xbr\u001b[39m\u001b[38;5;124m'\u001b[39m])) \u001b[38;5;241m/\u001b[39m \u001b[38;5;241m2\u001b[39m\n",
      "File \u001b[1;32mc:\\Users\\stani\\Documents\\Code\\Python\\HIN\\second try\\UN-number-detection\\.venv\\Lib\\site-packages\\IPython\\core\\interactiveshell.py:324\u001b[0m, in \u001b[0;36m_modified_open\u001b[1;34m(file, *args, **kwargs)\u001b[0m\n\u001b[0;32m    317\u001b[0m \u001b[38;5;28;01mif\u001b[39;00m file \u001b[38;5;129;01min\u001b[39;00m {\u001b[38;5;241m0\u001b[39m, \u001b[38;5;241m1\u001b[39m, \u001b[38;5;241m2\u001b[39m}:\n\u001b[0;32m    318\u001b[0m     \u001b[38;5;28;01mraise\u001b[39;00m \u001b[38;5;167;01mValueError\u001b[39;00m(\n\u001b[0;32m    319\u001b[0m         \u001b[38;5;124mf\u001b[39m\u001b[38;5;124m\"\u001b[39m\u001b[38;5;124mIPython won\u001b[39m\u001b[38;5;124m'\u001b[39m\u001b[38;5;124mt let you open fd=\u001b[39m\u001b[38;5;132;01m{\u001b[39;00mfile\u001b[38;5;132;01m}\u001b[39;00m\u001b[38;5;124m by default \u001b[39m\u001b[38;5;124m\"\u001b[39m\n\u001b[0;32m    320\u001b[0m         \u001b[38;5;124m\"\u001b[39m\u001b[38;5;124mas it is likely to crash IPython. If you know what you are doing, \u001b[39m\u001b[38;5;124m\"\u001b[39m\n\u001b[0;32m    321\u001b[0m         \u001b[38;5;124m\"\u001b[39m\u001b[38;5;124myou can use builtins\u001b[39m\u001b[38;5;124m'\u001b[39m\u001b[38;5;124m open.\u001b[39m\u001b[38;5;124m\"\u001b[39m\n\u001b[0;32m    322\u001b[0m     )\n\u001b[1;32m--> 324\u001b[0m \u001b[38;5;28;01mreturn\u001b[39;00m \u001b[43mio_open\u001b[49m\u001b[43m(\u001b[49m\u001b[43mfile\u001b[49m\u001b[43m,\u001b[49m\u001b[43m \u001b[49m\u001b[38;5;241;43m*\u001b[39;49m\u001b[43margs\u001b[49m\u001b[43m,\u001b[49m\u001b[43m \u001b[49m\u001b[38;5;241;43m*\u001b[39;49m\u001b[38;5;241;43m*\u001b[39;49m\u001b[43mkwargs\u001b[49m\u001b[43m)\u001b[49m\n",
      "\u001b[1;31mFileNotFoundError\u001b[0m: [Errno 2] No such file or directory: 'data/yolo_labels/10.txt'"
     ]
    }
   ],
   "source": [
    "create_yolo_annotations(df_images_with_boxes, 'data/yolo_labels')"
   ]
  },
  {
   "cell_type": "code",
   "execution_count": null,
   "metadata": {},
   "outputs": [],
   "source": [
    "def draw_rectangles(image_path, annotation_path, issue = None):\n",
    "    # Read the image\n",
    "    image = cv2.imread(image_path)\n",
    "    img_height, img_width, _ = image.shape\n",
    "\n",
    "    # Read the annotation file\n",
    "    with open(annotation_path, \"r\") as f:\n",
    "        lines = f.readlines()\n",
    "        for line in lines:\n",
    "            class_id, x_center, y_center, width, height = map(float, line.strip().split())\n",
    "            # Convert from YOLO format to bounding box coordinates\n",
    "            x_min = int((x_center - width / 2) * img_width)\n",
    "            y_min = int((y_center - height / 2) * img_height)\n",
    "            x_max = int((x_center + width / 2) * img_width)\n",
    "            y_max = int((y_center + height / 2) * img_height)\n",
    "            # Draw the rectangle\n",
    "            #change color for each new rectangle so that they are distinguishable the first element is the color in BGR format\n",
    "            #Display issue\n",
    "            if issue != None and issue != \"\":\n",
    "                cv2.putText(image, str(issue), (x_min, y_min), cv2.FONT_HERSHEY_SIMPLEX, 1,  (0, 255, 50), 2)\n",
    "            cv2.rectangle(image, (x_min, y_min), (x_max, y_max), (0, 255, 0), 2)\n",
    "            \n",
    "    \n",
    "    # Convert BGR image to RGB\n",
    "    image = cv2.cvtColor(image, cv2.COLOR_BGR2RGB)\n",
    "    \n",
    "    # Display the image using matplotlib\n",
    "    plt.figure(figsize=(10, 10))\n",
    "    plt.imshow(image)\n",
    "    plt.axis('off')\n",
    "    plt.show()\n",
    "draw_rectangles(path + '/images/152.png', './data/yolo_labels/152.txt')"
   ]
  }
 ],
 "metadata": {
  "kernelspec": {
   "display_name": ".venv",
   "language": "python",
   "name": "python3"
  },
  "language_info": {
   "codemirror_mode": {
    "name": "ipython",
    "version": 3
   },
   "file_extension": ".py",
   "mimetype": "text/x-python",
   "name": "python",
   "nbconvert_exporter": "python",
   "pygments_lexer": "ipython3",
   "version": "3.11.9"
  }
 },
 "nbformat": 4,
 "nbformat_minor": 2
}
