{
 "cells": [
  {
   "cell_type": "code",
   "execution_count": null,
   "metadata": {},
   "outputs": [],
   "source": [
    "import kagglehub\n",
    "from lxml import etree\n",
    "import pandas as pd\n",
    "import json\n",
    "from tqdm import tqdm\n",
    "import cv2\n",
    "import matplotlib.pyplot as plt"
   ]
  },
  {
   "cell_type": "code",
   "execution_count": null,
   "metadata": {},
   "outputs": [],
   "source": [
    "path = kagglehub.dataset_download(\"stanislavlevendeev/haz-mat-signs\")"
   ]
  },
  {
   "cell_type": "code",
   "execution_count": null,
   "metadata": {},
   "outputs": [],
   "source": [
    "annotations_path = path + \"/annotations.xml\""
   ]
  },
  {
   "cell_type": "code",
   "execution_count": null,
   "metadata": {},
   "outputs": [],
   "source": [
    "tree = etree.parse(annotations_path)\n",
    "# Get the root element\n",
    "root = tree.getroot()\n",
    "print(\"Root element:\", root.tag)\n"
   ]
  },
  {
   "cell_type": "code",
   "execution_count": null,
   "metadata": {},
   "outputs": [],
   "source": [
    "images_with_boxes = []\n",
    "\n",
    "for image in root.findall('image'):\n",
    "    for box in image.findall('box'):\n",
    "        image_id = image.get('name').split('.')[0]\n",
    "        if(len(image_id.split('/')) > 1):\n",
    "            image_id = image_id.split('/')[1]\n",
    "        attributes = {}\n",
    "        for attribute in box.findall('attribute'):\n",
    "            attributes[attribute.get('name')] = attribute.text\n",
    "        image_info = {\n",
    "            'image_id': image_id,\n",
    "            'image_name': image.get('name'),\n",
    "            'task_id': image.get('task_id'),\n",
    "            'width': image.get('width'),\n",
    "            'height': image.get('height'),\n",
    "            'box_label': box.get('label'),\n",
    "            'box_source': box.get('source'),\n",
    "            'box_xtl': box.get('xtl'),\n",
    "            'box_ytl': box.get('ytl'),\n",
    "            'box_xbr': box.get('xbr'),\n",
    "            'box_ybr': box.get('ybr'),\n",
    "            'issue': attributes.get('issue', None),  \n",
    "            'code': attributes.get('code', None)    \n",
    "\n",
    "        }\n",
    "        images_with_boxes.append(image_info)"
   ]
  },
  {
   "cell_type": "code",
   "execution_count": null,
   "metadata": {},
   "outputs": [],
   "source": [
    "df_images_with_boxes = pd.DataFrame(images_with_boxes)"
   ]
  },
  {
   "cell_type": "code",
   "execution_count": null,
   "metadata": {},
   "outputs": [],
   "source": [
    "df_images_with_boxes.head()"
   ]
  },
  {
   "cell_type": "code",
   "execution_count": null,
   "metadata": {},
   "outputs": [],
   "source": [
    "df_images_with_boxes['image_id'].unique().shape"
   ]
  },
  {
   "cell_type": "code",
   "execution_count": null,
   "metadata": {},
   "outputs": [],
   "source": [
    "def create_coco_annotations(df_images_with_boxes, output_path):\n",
    "    # Create categories\n",
    "    categories = []\n",
    "    for i, label in enumerate(df_images_with_boxes['box_label'].unique()):\n",
    "        categories.append({'id': i + 1, 'name': label, 'supercategory': 'none'})\n",
    "    images = []\n",
    "    annotations = []\n",
    "    image_id = 0\n",
    "    annotation_id = 0\n",
    "    for image_name in tqdm(df_images_with_boxes['image_name'].unique()):\n",
    "        image_id += 1\n",
    "        image_info = df_images_with_boxes[df_images_with_boxes['image_name'] == image_name].iloc[0]\n",
    "        images.append({\n",
    "            'id': image_id,\n",
    "            'file_name': image_name,\n",
    "            'width': image_info['width'],\n",
    "            'height': image_info['height'],\n",
    "        })\n",
    "        for _, row in df_images_with_boxes[df_images_with_boxes['image_name'] == image_name].iterrows():\n",
    "            annotation_id += 1\n",
    "            annotations.append({\n",
    "                'id': annotation_id,\n",
    "                'image_id': image_id,\n",
    "                'category_id': 1,\n",
    "                'bbox': [row['box_xtl'], row['box_ytl'], float(row['box_xbr']) - float(row['box_xtl']), float(row['box_ybr']) - float(row['box_ytl'])],\n",
    "                'area': (float(row['box_xbr']) - float(row['box_xtl'])) * (float(row['box_ybr']) - float(row['box_ytl'])),\n",
    "                'iscrowd': 0,\n",
    "            })\n",
    "    coco_data = {\n",
    "        'images': images,\n",
    "        'annotations': annotations,\n",
    "        'categories': categories,\n",
    "    }\n",
    "    with open(output_path, 'w') as f:\n",
    "        json.dump(coco_data, f)"
   ]
  },
  {
   "cell_type": "code",
   "execution_count": null,
   "metadata": {},
   "outputs": [],
   "source": [
    "create_coco_annotations(df_images_with_boxes, 'data/hazmat_coco.json')"
   ]
  },
  {
   "cell_type": "code",
   "execution_count": null,
   "metadata": {},
   "outputs": [],
   "source": [
    "#create yolo dataset annotations only labels files \n",
    "def create_yolo_annotations(df_images_with_boxes, output_path):\n",
    "    for image_name in tqdm(df_images_with_boxes['image_name'].unique()):\n",
    "        image_info = df_images_with_boxes[df_images_with_boxes['image_name'] == image_name].iloc[0]\n",
    "        image_id = image_info['image_id']\n",
    "        image_width = int(image_info['width'])\n",
    "        image_height = int(image_info['height'])\n",
    "        with open(output_path + '/' + image_id + '.txt', 'w') as f:\n",
    "            for _, row in df_images_with_boxes[df_images_with_boxes['image_name'] == image_name].iterrows():\n",
    "                x_center = (float(row['box_xtl']) + float(row['box_xbr'])) / 2\n",
    "                y_center = (float(row['box_ytl']) + float(row['box_ybr'])) / 2\n",
    "                width = float(row['box_xbr']) - float(row['box_xtl'])\n",
    "                height = float(row['box_ybr']) - float(row['box_ytl'])\n",
    "                x_center /= image_width\n",
    "                y_center /= image_height\n",
    "                width /= image_width\n",
    "                height /= image_height\n",
    "                f.write(f\"0 {x_center} {y_center} {width} {height}\\n\")"
   ]
  },
  {
   "cell_type": "code",
   "execution_count": null,
   "metadata": {},
   "outputs": [],
   "source": [
    "create_yolo_annotations(df_images_with_boxes, 'data/yolo_labels')"
   ]
  },
  {
   "cell_type": "code",
   "execution_count": null,
   "metadata": {},
   "outputs": [],
   "source": [
    "def draw_rectangles(image_path, annotation_path, issue = None):\n",
    "    # Read the image\n",
    "    image = cv2.imread(image_path)\n",
    "    img_height, img_width, _ = image.shape\n",
    "\n",
    "    # Read the annotation file\n",
    "    with open(annotation_path, \"r\") as f:\n",
    "        lines = f.readlines()\n",
    "        for line in lines:\n",
    "            class_id, x_center, y_center, width, height = map(float, line.strip().split())\n",
    "            # Convert from YOLO format to bounding box coordinates\n",
    "            x_min = int((x_center - width / 2) * img_width)\n",
    "            y_min = int((y_center - height / 2) * img_height)\n",
    "            x_max = int((x_center + width / 2) * img_width)\n",
    "            y_max = int((y_center + height / 2) * img_height)\n",
    "            # Draw the rectangle\n",
    "            #change color for each new rectangle so that they are distinguishable the first element is the color in BGR format\n",
    "            #Display issue\n",
    "            if issue != None and issue != \"\":\n",
    "                cv2.putText(image, str(issue), (x_min, y_min), cv2.FONT_HERSHEY_SIMPLEX, 1,  (0, 255, 50), 2)\n",
    "            cv2.rectangle(image, (x_min, y_min), (x_max, y_max), (0, 255, 0), 2)\n",
    "            \n",
    "    \n",
    "    # Convert BGR image to RGB\n",
    "    image = cv2.cvtColor(image, cv2.COLOR_BGR2RGB)\n",
    "    \n",
    "    # Display the image using matplotlib\n",
    "    plt.figure(figsize=(10, 10))\n",
    "    plt.imshow(image)\n",
    "    plt.axis('off')\n",
    "    plt.show()\n",
    "draw_rectangles(path + '/images/152.png', './data/yolo_labels/152.txt')"
   ]
  }
 ],
 "metadata": {
  "kernelspec": {
   "display_name": ".venv",
   "language": "python",
   "name": "python3"
  },
  "language_info": {
   "codemirror_mode": {
    "name": "ipython",
    "version": 3
   },
   "file_extension": ".py",
   "mimetype": "text/x-python",
   "name": "python",
   "nbconvert_exporter": "python",
   "pygments_lexer": "ipython3",
   "version": "3.11.9"
  }
 },
 "nbformat": 4,
 "nbformat_minor": 2
}
