{
 "cells": [
  {
   "cell_type": "markdown",
   "id": "077147bb-cf19-4906-ab20-ebac69b81a81",
   "metadata": {},
   "source": [
    "# UN number detection\n"
   ]
  },
  {
   "cell_type": "markdown",
   "id": "60e6c1be-70c4-4717-b2eb-fcc06698b492",
   "metadata": {},
   "source": [
    "## Business Understanding\n",
    "For this project, we have been tasked with developing a machine learning model capable of recognizing UN number hazard plates. These plates, commonly displayed on freight train wagons, indicate the types of hazardous materials being transported. The successful implementation of this model will contribute to a more efficient and secure railway system across the EU.\n",
    "\n",
    "<img src=\"hazard_plate.jpg\" alt=\"Hazard Plate\" width=\"500\"/>\n",
    "\n",
    "The hazard plates play a crucial role in ensuring the safety of transportation by providing essential information about the nature of the substances on board, such as flammability, toxicity, or corrosiveness. By automating the recognition process with machine learning, the handling and tracking of these hazardous materials can be streamlined, reducing manual labor and minimizing potential human errors.\n",
    " Determine business objectives\n",
    "\n",
    "### Determine business objectives\n",
    "#### Background\n",
    "The specific expectations and objectives of the EU for this project are not yet fully defined, but the initiative's roots are clear. This project is spearheaded by the University of Twente, with researcher Mellisa Tijink serving as our supervisor. Our team, composed of pre-master's Computer Science students, has been tasked with developing the machine learning model. Mellisa Tijink plays a pivotal role as the intermediary between our team and major stakeholders, including ProRail, the EU, and other experts in the field.\n",
    "\n",
    "This project is part of a broader initiative aimed at enhancing rail freight operations within Europe, aligning with the EU’s goals for improved efficiency and safety. More information on the initiative can be found on the official project site: [EU Rail FP5](https://projects.rail-research.europa.eu/eurail-fp5/).\n",
    "\n",
    "Flagship Project 5: *TRANS4M-R aims to establish rail freight as the backbone of a low-emission, resilient European logistics chain that meets end-user needs. It focuses on two main technological clusters: 'Full Digital Freight Train Operation' and 'Seamless Freight Operation', which will develop and demonstrate solutions to increase rail capacity, efficiency, and cross-border coordination. By integrating Digital Automatic Coupler (DAC) solutions with software-defined systems, the project seeks to optimize network management and enhance cooperation among infrastructure managers. The ultimate goal is to create an EU-wide, interoperable rail freight framework with unified technologies and seamless operations across borders and various stakeholders, boosting the EU transport and logistics sector.*\n",
    "\n",
    "#### Business objectives\n",
    "\n",
    "**Primary Objective:** Develop an object detection model for UN number hazard plates on freight wagons.\n",
    "\n",
    "**Sub-objectives:**\n",
    "1. Detect and identify UN number hazard plates: Ensure the model can accurately locate hazard plates on freight wagons. \n",
    "2. Read and interpret the UN numbers: Implement recognition capabilities to accurately read the numbers on the detected plates.\n",
    "3. Ensure model robustness and accuracy: Train the model to achieve high accuracy and reliability under various conditions (e.g., different lighting, weather).\n",
    "4. Optimize model for speed: Make sure the model runs efficiently and in real-time to function on moving trains.\n",
    "5. Adapt the model for moving environments: Design and test the model to handle the unique challenges of detecting and reading plates on trains in motion. "
   ]
  },
  {
   "cell_type": "markdown",
   "id": "4411a987",
   "metadata": {},
   "source": [
    "### Assess Situation\n",
    "\n",
    "#### Inventory of resources\n",
    "\n",
    "**Business Experts:** Our team currently lacks extensive expertise in this area. We can consult Melissa for some questions, and we have an upcoming interview with a Swedish expert in the field of UN number hazard plates.\n",
    "\n",
    "**Data Mining Team:** \n",
    "- Melissa Tijink (Researcher in Data Management & Biometrics/Electrical Engineering, Mathematics, and Computer Science)\n",
    "- Ewaldo Nieuwenhuis (Pre-master student in Computer Science)\n",
    "- Stanislav Levendeev (Pre-master student in Computer Science)\n",
    "\n",
    "**Data:**\n",
    "1. **Video Data of Freight Trains:** This consists of video footage of moving freight trains, where the freight wagons should display the UN numbers.\n",
    "2. **Line Scan Camera Pictures:** These are high-resolution images of the train, but they are very spread out. It is still uncertain if these will be useful.\n",
    "3. **Photos of ADR Warning Signs:** These are images of ADR signs on freight trains. However, this is not exactly what we need since our objective is to build a model that recognizes UN numbers.\n",
    "\n",
    "**Computing Resources:** We have access to a cluster from the University of Twente, which we can use to train or fine-tune our model.\n",
    "\n",
    "**Software:** We will use Python, Jupyter Notebook, Keras, PyTorch, and TensorFlow for analyzing, cleaning, preparing the data, and modeling. For data labeling, we will use [CVAT](https://www.cvat.ai/)."
   ]
  },
  {
   "cell_type": "markdown",
   "id": "26f6a3d9",
   "metadata": {},
   "source": [
    "### Requirements, assumptions, and constraints\n",
    "\n",
    "##### Requirements\n",
    "- Object detection capability for UN number hazard plates.\n",
    "- Text recognition to read and extract UN numbers.\n",
    "- High accuracy and precision in detection and recognition.\n",
    "- Robust performance under varying conditions (weather, lighting, speed).\n",
    "- Speed optimization for fast processing with minimal lag\n",
    "- Real-time processing for operation on moving trains.\n",
    "\n",
    "##### Assumptions\n",
    "- Consistent access to a high-performance computational cluster for model training and testing.\n",
    "- The high-performance cluster is necessary due to the heavy processing demands of deep learning models.\n",
    "- Local machines are not sufficient for the required high computational tasks.\n",
    "- Project-specific data, including images and videos of freight trains with hazard plates, will be provided as planned.\n",
    "- Data will include varied conditions (different lighting and weather) to ensure robustness.\n",
    "- Access to diverse data is essential for creating a model that generalizes well to real-world scenarios.\n",
    "- If the planned data is unavailable, additional time will be needed to source and prepare alternative public datasets.\n",
    "- Sourcing alternative datasets may affect the project timeline and the quality of the final outcomes.\n",
    "- The stakeholders will provide timely feedback to guide any changes or adaptations needed in the project.\n",
    "\n",
    "##### Constraints\n",
    "- The team has restricted experience with advanced object detection methods, which may impact the initial development and refinement of the model.\n",
    "- Most of the available data is not labeled, presenting a challenge for training supervised machine learning models. Some labeled data exists but belongs to another researcher, and access to it is uncertain.\n",
    "- The project must be completed within a short, 9-week period, which constrains the depth and breadth of potential research and model development.\n",
    "- The dataset may be skewed with an overrepresentation of specific UN numbers from certain wagons, which could limit the model's ability to generalize across different scenarios.\n",
    "- The size of the dataset makes it difficult to filter out specific wagons or relevant segments efficiently, posing a challenge for data processing and targeted training"
   ]
  },
  {
   "cell_type": "markdown",
   "id": "c3ac8acb",
   "metadata": {},
   "source": [
    "#### Risks and Contingencies\n",
    "\n",
    "**1. Lack of Data Access:**  \n",
    "*Risk:* Currently, we do not have access to the necessary video or linescan data, and there is a risk that we may never obtain it.  \n",
    "*Contingency Action:* Search for publicly available open-source datasets containing UN codes to proceed with model training and development.\n",
    "\n",
    "**2. Loss of Access to the Computational Cluster:**  \n",
    "*Risk:* While we currently have access to a high-performance cluster for training, loading, and fine-tuning models, there is a chance of losing this access due to technical failures or maintenance issues.  \n",
    "*Contingency Action:* Prepare to train, load, and fine-tune a smaller version of the model locally on personal computers.\n",
    "\n",
    "**3. Unavailability of Labeling Software:**  \n",
    "*Risk:* We plan to label the data with the help of our supervisor, Melissa, which is essential for fine-tuning and evaluating the model. If this step is delayed or cannot occur, it will impede progress.  \n",
    "*Contingency Action:* Learn how to use CVAT (Computer Vision Annotation Tool) and set it up on personal laptops to carry out data labeling independently.\n",
    "\n",
    "**4. Inaccessibility of Personal Laptops:**  \n",
    "*Risk:* Access to our laptops is crucial for development, data handling, and connecting to the cluster. If our laptops become unusable due to malfunction, our work will be disrupted.  \n",
    "*Contingency Action:* Use backup laptops that are ready for project work to ensure continuity."
   ]
  },
  {
   "cell_type": "markdown",
   "id": "9600fa72",
   "metadata": {},
   "source": [
    "#### Terminology\n",
    "\n",
    "**Business Terminology:**\n",
    "- **UN Number Hazard Plates**: Identification plates with UN numbers that indicate the nature of hazardous materials, improving safety during transport.\n",
    "- **Freight Trains**: Trains used for transporting goods, especially relevant when carrying hazardous materials.\n",
    "- **Flagship Project 5**: A project within the European \"Europe’s Rail\" initiative, focused on applying technologies to enhance rail transport safety.\n",
    "- **ADR (European Agreement concerning the International Carriage of Dangerous Goods by Road)**: International regulations governing the transport of hazardous goods.\n",
    "- **ProRail**: The Dutch railway network manager responsible for maintaining the railways.\n",
    "- **Line-Scan Camera**: A camera that captures images one line at a time for capturing objects like fast-moving trains.\n",
    "\n",
    "**Data Mining Terminology:**\n",
    "- **CRISP-DM (Cross-Industry Standard Process for Data Mining)**: A widely used methodology for managing data mining projects, consisting of six phases:\n",
    "  - **Business Understanding**: Defining objectives from a business perspective.\n",
    "  - **Data Understanding**: Collecting and analyzing data to gain insights.\n",
    "  - **Data Preparation**: Preparing data, such as annotating and normalizing, for model training.\n",
    "  - **Modeling**: Selecting and training models for the desired task.\n",
    "  - **Evaluation**: Assessing model performance using specific metrics.\n",
    "  - **Deployment**: Implementing the model in real-world applications.\n",
    "\n",
    "- **Object Detection**: Identifying specific objects (e.g., hazard plates) within images or videos.\n",
    "- **Optical Character Recognition (OCR)**: Extracting text from images, used here to read numbers on hazard plates.\n",
    "- **YOLO (You Only Look Once)**: A fast object detection model ideal for real-time applications.\n",
    "- **Faster R-CNN**: A more accurate but slightly slower object detection model, suitable for complex environments.\n",
    "- **Annotation**: Marking data (e.g., video frames) with labels like bounding boxes to create ground truth for model training.\n",
    "- **Bounding Boxes**: Rectangular boxes used in image processing to define regions of interest around an object.\n",
    "- **Normalization**: Adjusting data to a standard scale to ensure consistency in model input.\n",
    "- **Augmentation**: Enhancing training data through techniques like contrast adjustment to improve model robustness.\n",
    "- **Average Precision (AP)**: A metric for evaluating the accuracy of object detection models.\n",
    "- **Tesseract**: A commonly used OCR tool for extracting alphanumeric text from images.\n",
    "- **HOG (Histogram of Oriented Gradients)**: A feature descriptor used in object detection, especially for detecting shapes or text.\n",
    "- **Saliency Detection**: An algorithmic technique to identify key areas within images for focused analysis.\n",
    "- **Support Vector Regression (SVR)**: A machine learning algorithm for regression tasks, sometimes used to create likelihood maps for image processing.\n"
   ]
  },
  {
   "cell_type": "markdown",
   "id": "bc68f479",
   "metadata": {},
   "source": [
    "### Determine Data Mining Goals"
   ]
  },
  {
   "cell_type": "markdown",
   "id": "955c78e4-b34a-42c5-b82e-194acd0f7fed",
   "metadata": {},
   "source": [
    "## Data Understanding"
   ]
  },
  {
   "cell_type": "markdown",
   "id": "fe66bb62-a05b-48d6-8c54-ecc7d76de4d8",
   "metadata": {},
   "source": [
    "## Data Preperation"
   ]
  },
  {
   "cell_type": "markdown",
   "id": "09f6d330",
   "metadata": {},
   "source": [
    "## Modeling"
   ]
  },
  {
   "cell_type": "markdown",
   "id": "11ad997b",
   "metadata": {},
   "source": [
    "## Evaluation"
   ]
  },
  {
   "cell_type": "markdown",
   "id": "28f78f46",
   "metadata": {},
   "source": [
    "## Deployment"
   ]
  },
  {
   "cell_type": "markdown",
   "id": "011cf571",
   "metadata": {},
   "source": []
  }
 ],
 "metadata": {
  "kernelspec": {
   "display_name": "Python 3 (ipykernel)",
   "language": "python",
   "name": "python3"
  },
  "language_info": {
   "codemirror_mode": {
    "name": "ipython",
    "version": 3
   },
   "file_extension": ".py",
   "mimetype": "text/x-python",
   "name": "python",
   "nbconvert_exporter": "python",
   "pygments_lexer": "ipython3",
   "version": "3.12.4"
  }
 },
 "nbformat": 4,
 "nbformat_minor": 5
}
