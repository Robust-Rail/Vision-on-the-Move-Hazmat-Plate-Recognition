version https://git-lfs.github.com/spec/v1
oid sha256:3c5f54a912cc3658120e1650b8dd29208f514ca5780c89680e1f8d0625692fda
size 5427017
