{
 "cells": [
  {
   "cell_type": "markdown",
   "id": "077147bb-cf19-4906-ab20-ebac69b81a81",
   "metadata": {},
   "source": [
    "# UN number detection\n"
   ]
  },
  {
   "cell_type": "markdown",
   "id": "60e6c1be-70c4-4717-b2eb-fcc06698b492",
   "metadata": {},
   "source": [
    "## Business Understanding\n",
    "For this project, we have been tasked with developing a machine learning model capable of recognizing UN number hazard plates. These plates, commonly displayed on freight train wagons, indicate the types of hazardous materials being transported. The successful implementation of this model will contribute to a more efficient and secure railway system across the EU.\n",
    "\n",
    "<img src=\"hazard_plate.jpg\" alt=\"Hazard Plate\" width=\"500\"/>\n",
    "\n",
    "The hazard plates play a crucial role in ensuring the safety of transportation by providing essential information about the nature of the substances on board, such as flammability, toxicity, or corrosiveness. By automating the recognition process with machine learning, the handling and tracking of these hazardous materials can be streamlined, reducing manual labor and minimizing potential human errors.\n",
    " Determine business objectives\n",
    "\n",
    "### Determine business objectives\n",
    "#### Background\n",
    "The specific expectations and objectives of the EU for this project are not yet fully defined, but the initiative's roots are clear. This project is spearheaded by the University of Twente, with researcher Mellisa Tijink serving as our supervisor. Our team, composed of pre-master's Computer Science students, has been tasked with developing the machine learning model. Mellisa Tijink plays a pivotal role as the intermediary between our team and major stakeholders, including ProRail, the EU, and other experts in the field.\n",
    "\n",
    "This project is part of a broader initiative aimed at enhancing rail freight operations within Europe, aligning with the EU’s goals for improved efficiency and safety. More information on the initiative can be found on the official project site: [EU Rail FP5](https://projects.rail-research.europa.eu/eurail-fp5/).\n",
    "\n",
    "Flagship Project 5: *TRANS4M-R aims to establish rail freight as the backbone of a low-emission, resilient European logistics chain that meets end-user needs. It focuses on two main technological clusters: 'Full Digital Freight Train Operation' and 'Seamless Freight Operation', which will develop and demonstrate solutions to increase rail capacity, efficiency, and cross-border coordination. By integrating Digital Automatic Coupler (DAC) solutions with software-defined systems, the project seeks to optimize network management and enhance cooperation among infrastructure managers. The ultimate goal is to create an EU-wide, interoperable rail freight framework with unified technologies and seamless operations across borders and various stakeholders, boosting the EU transport and logistics sector.*\n",
    "\n",
    "#### Business objectives\n",
    "\n",
    "**Primary Objective:** Develop an object detection model for UN number hazard plates on freight wagons.\n",
    "\n",
    "**Sub-objectives:**\n",
    "1. Detect and identify UN number hazard plates: Ensure the model can accurately locate hazard plates on freight wagons. \n",
    "2. Read and interpret the UN numbers: Implement recognition capabilities to accurately read the numbers on the detected plates.\n",
    "3. Ensure model robustness and accuracy: Train the model to achieve high accuracy and reliability under various conditions (e.g., different lighting, weather).\n",
    "4. Optimize model for speed: Make sure the model runs efficiently and in real-time to function on moving trains.\n",
    "5. Adapt the model for moving environments: Design and test the model to handle the unique challenges of detecting and reading plates on trains in motion. "
   ]
  },
  {
   "cell_type": "markdown",
   "id": "4411a987",
   "metadata": {},
   "source": [
    "### Assess Situation\n",
    "\n",
    "#### Inventory of resources\n",
    "\n",
    "**Business Experts:** Our team currently lacks extensive expertise in this area. We can consult Melissa for some questions, and we have an upcoming interview with a Swedish expert in the field of UN number hazard plates.\n",
    "\n",
    "**Data Mining Team:** \n",
    "- Melissa Tijink (Researcher in Data Management & Biometrics/Electrical Engineering, Mathematics, and Computer Science)\n",
    "- Ewaldo Nieuwenhuis (Pre-master student in Computer Science)\n",
    "- Stanislav Levendeev (Pre-master student in Computer Science)\n",
    "\n",
    "**Data:**\n",
    "1. **Video Data of Freight Trains:** This consists of video footage of moving freight trains, where the freight wagons should display the UN numbers.\n",
    "2. **Line Scan Camera Pictures:** These are high-resolution images of the train, but they are very spread out. It is still uncertain if these will be useful.\n",
    "3. **Photos of ADR Warning Signs:** These are images of ADR signs on freight trains. However, this is not exactly what we need since our objective is to build a model that recognizes UN numbers.\n",
    "\n",
    "**Computing Resources:** We have access to a cluster from the University of Twente, which we can use to train or fine-tune our model.\n",
    "\n",
    "**Software:** We will use Python, Jupyter Notebook, Keras, PyTorch, and TensorFlow for analyzing, cleaning, preparing the data, and modeling. For data labeling, we will use [CVAT](https://www.cvat.ai/)."
   ]
  },
  {
   "cell_type": "code",
   "execution_count": null,
   "id": "33feb473",
   "metadata": {
    "vscode": {
     "languageId": "plaintext"
    }
   },
   "outputs": [],
   "source": []
  },
  {
   "cell_type": "markdown",
   "id": "bc68f479",
   "metadata": {},
   "source": [
    "### Determine Data Mining Goals"
   ]
  },
  {
   "cell_type": "markdown",
   "id": "955c78e4-b34a-42c5-b82e-194acd0f7fed",
   "metadata": {},
   "source": [
    "## Data Understanding"
   ]
  },
  {
   "cell_type": "markdown",
   "id": "fe66bb62-a05b-48d6-8c54-ecc7d76de4d8",
   "metadata": {},
   "source": [
    "## Data Preperation"
   ]
  },
  {
   "cell_type": "markdown",
   "id": "09f6d330",
   "metadata": {},
   "source": [
    "## Modeling"
   ]
  },
  {
   "cell_type": "markdown",
   "id": "11ad997b",
   "metadata": {},
   "source": [
    "## Evaluation"
   ]
  },
  {
   "cell_type": "markdown",
   "id": "28f78f46",
   "metadata": {},
   "source": [
    "## Deployment"
   ]
  },
  {
   "cell_type": "markdown",
   "id": "011cf571",
   "metadata": {},
   "source": []
  }
 ],
 "metadata": {
  "kernelspec": {
   "display_name": "Python 3 (ipykernel)",
   "language": "python",
   "name": "python3"
  },
  "language_info": {
   "codemirror_mode": {
    "name": "ipython",
    "version": 3
   },
   "file_extension": ".py",
   "mimetype": "text/x-python",
   "name": "python",
   "nbconvert_exporter": "python",
   "pygments_lexer": "ipython3",
   "version": "3.12.4"
  }
 },
 "nbformat": 4,
 "nbformat_minor": 5
}
